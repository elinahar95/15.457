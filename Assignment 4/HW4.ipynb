{
 "cells": [
  {
   "cell_type": "code",
   "execution_count": 1,
   "metadata": {},
   "outputs": [],
   "source": [
    "import pandas as pd\n",
    "import numpy as np\n",
    "from matplotlib import pyplot as plt\n",
    "import statsmodels.api as sm\n",
    "import statistics as stat\n",
    "from scipy import stats\n",
    "import seaborn as sns\n",
    "import math as math\n",
    "import seaborn as sb"
   ]
  },
  {
   "cell_type": "markdown",
   "metadata": {},
   "source": [
    "# Question 2"
   ]
  },
  {
   "cell_type": "code",
   "execution_count": 2,
   "metadata": {},
   "outputs": [],
   "source": [
    "fomc = pd.read_csv(\"/Users/elinaharutyunyan/Desktop/MFin Spring 2020/Advanced Analytics of Finance/FOMC.csv\")\n",
    "fomc = fomc.rename(columns={\"Calendar Date\": \"Date\", \"Value-Weighted Return-incl. dividends\": \"ret\"})"
   ]
  },
  {
   "cell_type": "code",
   "execution_count": 3,
   "metadata": {},
   "outputs": [
    {
     "data": {
      "text/html": [
       "<div>\n",
       "<style scoped>\n",
       "    .dataframe tbody tr th:only-of-type {\n",
       "        vertical-align: middle;\n",
       "    }\n",
       "\n",
       "    .dataframe tbody tr th {\n",
       "        vertical-align: top;\n",
       "    }\n",
       "\n",
       "    .dataframe thead th {\n",
       "        text-align: right;\n",
       "    }\n",
       "</style>\n",
       "<table border=\"1\" class=\"dataframe\">\n",
       "  <thead>\n",
       "    <tr style=\"text-align: right;\">\n",
       "      <th></th>\n",
       "      <th>Date</th>\n",
       "      <th>FOMC</th>\n",
       "      <th>ret</th>\n",
       "    </tr>\n",
       "  </thead>\n",
       "  <tbody>\n",
       "    <tr>\n",
       "      <td>0</td>\n",
       "      <td>19800102</td>\n",
       "      <td>0</td>\n",
       "      <td>-0.020016</td>\n",
       "    </tr>\n",
       "    <tr>\n",
       "      <td>1</td>\n",
       "      <td>19800103</td>\n",
       "      <td>0</td>\n",
       "      <td>-0.004558</td>\n",
       "    </tr>\n",
       "    <tr>\n",
       "      <td>2</td>\n",
       "      <td>19800104</td>\n",
       "      <td>0</td>\n",
       "      <td>0.012308</td>\n",
       "    </tr>\n",
       "    <tr>\n",
       "      <td>3</td>\n",
       "      <td>19800107</td>\n",
       "      <td>0</td>\n",
       "      <td>0.003118</td>\n",
       "    </tr>\n",
       "    <tr>\n",
       "      <td>4</td>\n",
       "      <td>19800108</td>\n",
       "      <td>0</td>\n",
       "      <td>0.021196</td>\n",
       "    </tr>\n",
       "    <tr>\n",
       "      <td>...</td>\n",
       "      <td>...</td>\n",
       "      <td>...</td>\n",
       "      <td>...</td>\n",
       "    </tr>\n",
       "    <tr>\n",
       "      <td>9328</td>\n",
       "      <td>20161223</td>\n",
       "      <td>0</td>\n",
       "      <td>0.001354</td>\n",
       "    </tr>\n",
       "    <tr>\n",
       "      <td>9329</td>\n",
       "      <td>20161227</td>\n",
       "      <td>0</td>\n",
       "      <td>0.002297</td>\n",
       "    </tr>\n",
       "    <tr>\n",
       "      <td>9330</td>\n",
       "      <td>20161228</td>\n",
       "      <td>0</td>\n",
       "      <td>-0.008145</td>\n",
       "    </tr>\n",
       "    <tr>\n",
       "      <td>9331</td>\n",
       "      <td>20161229</td>\n",
       "      <td>0</td>\n",
       "      <td>-0.000246</td>\n",
       "    </tr>\n",
       "    <tr>\n",
       "      <td>9332</td>\n",
       "      <td>20161230</td>\n",
       "      <td>0</td>\n",
       "      <td>-0.004634</td>\n",
       "    </tr>\n",
       "  </tbody>\n",
       "</table>\n",
       "<p>9333 rows × 3 columns</p>\n",
       "</div>"
      ],
      "text/plain": [
       "          Date  FOMC       ret\n",
       "0     19800102     0 -0.020016\n",
       "1     19800103     0 -0.004558\n",
       "2     19800104     0  0.012308\n",
       "3     19800107     0  0.003118\n",
       "4     19800108     0  0.021196\n",
       "...        ...   ...       ...\n",
       "9328  20161223     0  0.001354\n",
       "9329  20161227     0  0.002297\n",
       "9330  20161228     0 -0.008145\n",
       "9331  20161229     0 -0.000246\n",
       "9332  20161230     0 -0.004634\n",
       "\n",
       "[9333 rows x 3 columns]"
      ]
     },
     "execution_count": 3,
     "metadata": {},
     "output_type": "execute_result"
    }
   ],
   "source": [
    "fomc"
   ]
  },
  {
   "cell_type": "code",
   "execution_count": 4,
   "metadata": {},
   "outputs": [],
   "source": [
    "fomc.Date = pd.to_datetime(fomc.Date, format = '%Y%m%d',errors = 'ignore')\n",
    "fomc.set_index('Date',inplace = True)"
   ]
  },
  {
   "cell_type": "code",
   "execution_count": 5,
   "metadata": {},
   "outputs": [],
   "source": [
    "fomc2 = fomc['1993-01-01':'2016-12-30']"
   ]
  },
  {
   "cell_type": "code",
   "execution_count": 6,
   "metadata": {},
   "outputs": [
    {
     "data": {
      "text/plain": [
       "186"
      ]
     },
     "execution_count": 6,
     "metadata": {},
     "output_type": "execute_result"
    }
   ],
   "source": [
    "sum(fomc2.FOMC)"
   ]
  },
  {
   "cell_type": "code",
   "execution_count": 7,
   "metadata": {},
   "outputs": [
    {
     "name": "stdout",
     "output_type": "stream",
     "text": [
      "0.03286151220344779\n"
     ]
    }
   ],
   "source": [
    "mean_return = fomc2[fomc2.FOMC!=1].ret.mean()\n",
    "print(mean_return*100)"
   ]
  },
  {
   "cell_type": "code",
   "execution_count": 8,
   "metadata": {},
   "outputs": [],
   "source": [
    "fomc_no_ann = fomc2[fomc2.FOMC !=1]"
   ]
  },
  {
   "cell_type": "code",
   "execution_count": 9,
   "metadata": {},
   "outputs": [
    {
     "name": "stdout",
     "output_type": "stream",
     "text": [
      "                            OLS Regression Results                            \n",
      "==============================================================================\n",
      "Dep. Variable:                    ret   R-squared:                       0.000\n",
      "Model:                            OLS   Adj. R-squared:                  0.000\n",
      "Method:                 Least Squares   F-statistic:                       nan\n",
      "Date:                Tue, 14 Apr 2020   Prob (F-statistic):                nan\n",
      "Time:                        16:47:15   Log-Likelihood:                 17846.\n",
      "No. Observations:                5859   AIC:                        -3.569e+04\n",
      "Df Residuals:                    5858   BIC:                        -3.568e+04\n",
      "Df Model:                           0                                         \n",
      "Covariance Type:            nonrobust                                         \n",
      "==============================================================================\n",
      "                 coef    std err          t      P>|t|      [0.025      0.975]\n",
      "------------------------------------------------------------------------------\n",
      "const          0.0003      0.000      2.186      0.029    3.39e-05       0.001\n",
      "==============================================================================\n",
      "Omnibus:                      966.461   Durbin-Watson:                   2.084\n",
      "Prob(Omnibus):                  0.000   Jarque-Bera (JB):            19111.568\n",
      "Skew:                          -0.093   Prob(JB):                         0.00\n",
      "Kurtosis:                      11.846   Cond. No.                         1.00\n",
      "==============================================================================\n",
      "\n",
      "Warnings:\n",
      "[1] Standard Errors assume that the covariance matrix of the errors is correctly specified.\n"
     ]
    },
    {
     "name": "stderr",
     "output_type": "stream",
     "text": [
      "/Users/elinaharutyunyan/opt/anaconda3/lib/python3.7/site-packages/statsmodels/regression/linear_model.py:1657: RuntimeWarning: invalid value encountered in double_scalars\n",
      "  return self.ess/self.df_model\n"
     ]
    }
   ],
   "source": [
    "x_val = np.repeat(1,len(fomc_no_ann))\n",
    "ret_ols = sm.OLS(fomc_no_ann.ret,x_val).fit()\n",
    "print(ret_ols.summary())"
   ]
  },
  {
   "cell_type": "code",
   "execution_count": 10,
   "metadata": {},
   "outputs": [
    {
     "data": {
      "text/plain": [
       "const    0.000329\n",
       "dtype: float64"
      ]
     },
     "execution_count": 10,
     "metadata": {},
     "output_type": "execute_result"
    }
   ],
   "source": [
    "ret_ols.params"
   ]
  },
  {
   "cell_type": "code",
   "execution_count": 11,
   "metadata": {},
   "outputs": [],
   "source": [
    "ab_rets = []\n",
    "for i in range(len(fomc2)):\n",
    "    if fomc2.FOMC[i] == 1:\n",
    "        ab_rets.append(fomc2.ret[i] - ret_ols.params[0])"
   ]
  },
  {
   "cell_type": "code",
   "execution_count": 12,
   "metadata": {},
   "outputs": [
    {
     "data": {
      "text/plain": [
       "0.2902884877965523"
      ]
     },
     "execution_count": 12,
     "metadata": {},
     "output_type": "execute_result"
    }
   ],
   "source": [
    "np.array(ab_rets).mean()*100\n",
    "#average abnormal returns using constant mean model"
   ]
  },
  {
   "cell_type": "code",
   "execution_count": 13,
   "metadata": {},
   "outputs": [],
   "source": [
    "#calculating average abnormal returns by subtracting the mean\n",
    "ab_rets = []\n",
    "for i in range(len(fomc2)):\n",
    "    if fomc2.FOMC[i] == 1:\n",
    "        ab_rets.append(fomc2.ret[i] - mean_return)\n",
    "\n",
    "sigma_bar = (np.sum(np.array(ab_rets)**2)/186**2)**0.5\n",
    "avg_car = np.array(ab_rets).mean()"
   ]
  },
  {
   "cell_type": "code",
   "execution_count": 14,
   "metadata": {},
   "outputs": [
    {
     "name": "stdout",
     "output_type": "stream",
     "text": [
      "Volatility of Abnormal Returns: 0.086192127793902\n",
      "Average Abnormal Returns: 0.2902884877965523\n"
     ]
    }
   ],
   "source": [
    "print('Volatility of Abnormal Returns:',sigma_bar*100)\n",
    "print('Average Abnormal Returns:',avg_car*100)"
   ]
  },
  {
   "cell_type": "code",
   "execution_count": 15,
   "metadata": {},
   "outputs": [
    {
     "name": "stdout",
     "output_type": "stream",
     "text": [
      "Test-statistic for the significance of Abnormal Returns 3.3679234429700426\n"
     ]
    }
   ],
   "source": [
    "stat = avg_car/sigma_bar\n",
    "print('Test-statistic for the significance of Abnormal Returns',stat)"
   ]
  },
  {
   "cell_type": "code",
   "execution_count": 16,
   "metadata": {},
   "outputs": [],
   "source": [
    "ab_rets = np.array(ab_rets)*100\n",
    "ab_rets2 = (fomc2[fomc2.FOMC != 1].ret - mean_return)*100"
   ]
  },
  {
   "cell_type": "code",
   "execution_count": 17,
   "metadata": {},
   "outputs": [
    {
     "data": {
      "image/png": "[encoded data removed]",
      "text/plain": [
       "<Figure size 432x288 with 1 Axes>"
      ]
     },
     "metadata": {
      "needs_background": "light"
     },
     "output_type": "display_data"
    }
   ],
   "source": [
    "#kernel density plots\n",
    "sb.distplot(ab_rets,hist=False, label = 'Abnormal Returns on Event Dates')\n",
    "sb.distplot(ab_rets2,hist=False, label = 'Abnormal Returns on Non-Event Dates')\n",
    "plt.legend(bbox_to_anchor=(1, 1), loc='upper left')\n",
    "plt.xlabel('Returns, %')\n",
    "plt.show()"
   ]
  },
  {
   "cell_type": "markdown",
   "metadata": {},
   "source": [
    "## Index for high yield corporate bonds"
   ]
  },
  {
   "cell_type": "code",
   "execution_count": 18,
   "metadata": {},
   "outputs": [
    {
     "data": {
      "text/html": [
       "<div>\n",
       "<style scoped>\n",
       "    .dataframe tbody tr th:only-of-type {\n",
       "        vertical-align: middle;\n",
       "    }\n",
       "\n",
       "    .dataframe tbody tr th {\n",
       "        vertical-align: top;\n",
       "    }\n",
       "\n",
       "    .dataframe thead th {\n",
       "        text-align: right;\n",
       "    }\n",
       "</style>\n",
       "<table border=\"1\" class=\"dataframe\">\n",
       "  <thead>\n",
       "    <tr style=\"text-align: right;\">\n",
       "      <th></th>\n",
       "      <th>DATE</th>\n",
       "      <th>ret</th>\n",
       "    </tr>\n",
       "  </thead>\n",
       "  <tbody>\n",
       "    <tr>\n",
       "      <td>0</td>\n",
       "      <td>12/31/96</td>\n",
       "      <td>9.55</td>\n",
       "    </tr>\n",
       "    <tr>\n",
       "      <td>1</td>\n",
       "      <td>1/1/97</td>\n",
       "      <td>NaN</td>\n",
       "    </tr>\n",
       "    <tr>\n",
       "      <td>2</td>\n",
       "      <td>1/2/97</td>\n",
       "      <td>9.57</td>\n",
       "    </tr>\n",
       "    <tr>\n",
       "      <td>3</td>\n",
       "      <td>1/3/97</td>\n",
       "      <td>9.58</td>\n",
       "    </tr>\n",
       "    <tr>\n",
       "      <td>4</td>\n",
       "      <td>1/6/97</td>\n",
       "      <td>9.61</td>\n",
       "    </tr>\n",
       "  </tbody>\n",
       "</table>\n",
       "</div>"
      ],
      "text/plain": [
       "       DATE   ret\n",
       "0  12/31/96  9.55\n",
       "1    1/1/97   NaN\n",
       "2    1/2/97  9.57\n",
       "3    1/3/97  9.58\n",
       "4    1/6/97  9.61"
      ]
     },
     "execution_count": 18,
     "metadata": {},
     "output_type": "execute_result"
    }
   ],
   "source": [
    "high_yield = pd.read_csv(\"/Users/elinaharutyunyan/Desktop/MFin Spring 2020/Advanced Analytics of Finance/BAMLH0A0HYM2EY.csv\")\n",
    "high_yield.head()"
   ]
  },
  {
   "cell_type": "code",
   "execution_count": 19,
   "metadata": {},
   "outputs": [],
   "source": [
    "high_yield.DATE = pd.to_datetime(high_yield.DATE, format = '%m/%d/%y',errors = 'ignore')\n",
    "high_yield.set_index('DATE',inplace = True)"
   ]
  },
  {
   "cell_type": "code",
   "execution_count": 20,
   "metadata": {},
   "outputs": [],
   "source": [
    "high_yield = high_yield['1993-01-01':'2016-12-30']"
   ]
  },
  {
   "cell_type": "code",
   "execution_count": 21,
   "metadata": {},
   "outputs": [],
   "source": [
    "fomc = fomc2.FOMC\n",
    "hy = pd.concat([high_yield,fomc], axis = 1)\n",
    "hy.ret = hy.ret/100"
   ]
  },
  {
   "cell_type": "code",
   "execution_count": 22,
   "metadata": {},
   "outputs": [
    {
     "data": {
      "text/plain": [
       "186"
      ]
     },
     "execution_count": 22,
     "metadata": {},
     "output_type": "execute_result"
    }
   ],
   "source": [
    "sum(hy.FOMC == 1)"
   ]
  },
  {
   "cell_type": "code",
   "execution_count": 23,
   "metadata": {},
   "outputs": [],
   "source": [
    "m = hy[hy.FOMC!=1].ret.mean()\n",
    "ab_rets = []\n",
    "for i in range(len(hy)):\n",
    "    if hy.FOMC[i] == 1:\n",
    "        ab_rets.append(hy.ret[i] - m)\n",
    "\n",
    "sigma_bar = (np.nansum(np.array(ab_rets)**2)/160**2)**0.5\n",
    "avg_car = np.nanmean(np.array(ab_rets))"
   ]
  },
  {
   "cell_type": "code",
   "execution_count": 24,
   "metadata": {},
   "outputs": [
    {
     "data": {
      "text/plain": [
       "9.252766798418977"
      ]
     },
     "execution_count": 24,
     "metadata": {},
     "output_type": "execute_result"
    }
   ],
   "source": [
    "m*100"
   ]
  },
  {
   "cell_type": "code",
   "execution_count": 25,
   "metadata": {},
   "outputs": [
    {
     "name": "stdout",
     "output_type": "stream",
     "text": [
      "Volatility of Abnormal Returns: 0.22801848607827005\n",
      "Average Abnormal Returns: 0.005045701581023465\n"
     ]
    }
   ],
   "source": [
    "print('Volatility of Abnormal Returns:',sigma_bar*100)\n",
    "print('Average Abnormal Returns:',avg_car*100)"
   ]
  },
  {
   "cell_type": "code",
   "execution_count": 26,
   "metadata": {},
   "outputs": [
    {
     "name": "stdout",
     "output_type": "stream",
     "text": [
      "Test-statistic for the significance of Abnormal Returns 0.022128475931076346\n"
     ]
    }
   ],
   "source": [
    "stat = avg_car/sigma_bar\n",
    "print('Test-statistic for the significance of Abnormal Returns',stat)"
   ]
  },
  {
   "cell_type": "code",
   "execution_count": 27,
   "metadata": {},
   "outputs": [],
   "source": [
    "ab_rets = np.array(ab_rets)*100\n",
    "ab_rets2 = (hy[hy.FOMC != 1].ret - m)*100"
   ]
  },
  {
   "cell_type": "code",
   "execution_count": 28,
   "metadata": {},
   "outputs": [
    {
     "name": "stderr",
     "output_type": "stream",
     "text": [
      "/Users/elinaharutyunyan/opt/anaconda3/lib/python3.7/site-packages/statsmodels/nonparametric/kde.py:447: RuntimeWarning: invalid value encountered in greater\n",
      "  X = X[np.logical_and(X > clip[0], X < clip[1])] # won't work for two columns.\n",
      "/Users/elinaharutyunyan/opt/anaconda3/lib/python3.7/site-packages/statsmodels/nonparametric/kde.py:447: RuntimeWarning: invalid value encountered in less\n",
      "  X = X[np.logical_and(X > clip[0], X < clip[1])] # won't work for two columns.\n"
     ]
    },
    {
     "data": {
      "image/png": "[encoded data removed]",
      "text/plain": [
       "<Figure size 432x288 with 1 Axes>"
      ]
     },
     "metadata": {
      "needs_background": "light"
     },
     "output_type": "display_data"
    }
   ],
   "source": [
    "sb.distplot(ab_rets,hist=False, label = 'Abnormal Returns on Event Dates')\n",
    "sb.distplot(ab_rets2,hist=False, label = 'Abnormal Returns on Non-Event Dates')\n",
    "plt.legend(bbox_to_anchor=(1, 1), loc='upper left')\n",
    "plt.xlabel('Returns, %')\n",
    "plt.show()"
   ]
  },
  {
   "cell_type": "markdown",
   "metadata": {},
   "source": [
    "# Question 3"
   ]
  },
  {
   "cell_type": "code",
   "execution_count": 111,
   "metadata": {},
   "outputs": [],
   "source": [
    "pead = pd.read_csv(\"/Users/elinaharutyunyan/Desktop/MFin Spring 2020/Advanced Analytics of Finance/PEAD.csv\")\n",
    "market = pd.read_csv(\"/Users/elinaharutyunyan/Desktop/MFin Spring 2020/Advanced Analytics of Finance/market.csv\")"
   ]
  },
  {
   "cell_type": "code",
   "execution_count": 112,
   "metadata": {},
   "outputs": [],
   "source": [
    "pead = pead.rename(columns={\"PERMNO\": \"permno\", \"DATE\": \"date\", \"RET\":\"ret\"})"
   ]
  },
  {
   "cell_type": "code",
   "execution_count": 113,
   "metadata": {},
   "outputs": [
    {
     "data": {
      "text/plain": [
       "1000"
      ]
     },
     "execution_count": 113,
     "metadata": {},
     "output_type": "execute_result"
    }
   ],
   "source": [
    "len(pead.permno.unique())"
   ]
  },
  {
   "cell_type": "code",
   "execution_count": 114,
   "metadata": {},
   "outputs": [],
   "source": [
    "market = market.rename(columns={\"DATE\": \"date\"})"
   ]
  },
  {
   "cell_type": "code",
   "execution_count": 115,
   "metadata": {},
   "outputs": [],
   "source": [
    "pead.date = pd.to_datetime(pead.date, format = '%Y%m%d',errors = 'ignore')\n",
    "pead.set_index('date',inplace = True)\n",
    "market.date = pd.to_datetime(market.date, format = '%Y%m%d',errors = 'ignore')\n",
    "market.set_index('date',inplace = True)"
   ]
  },
  {
   "cell_type": "code",
   "execution_count": 116,
   "metadata": {},
   "outputs": [],
   "source": [
    "pead_m = pd.merge(pead,market,left_index = True,right_index = True)"
   ]
  },
  {
   "cell_type": "markdown",
   "metadata": {},
   "source": [
    "## Part a"
   ]
  },
  {
   "cell_type": "code",
   "execution_count": 117,
   "metadata": {},
   "outputs": [
    {
     "data": {
      "text/plain": [
       "1000"
      ]
     },
     "execution_count": 117,
     "metadata": {},
     "output_type": "execute_result"
    }
   ],
   "source": [
    "len(set(pead.permno))"
   ]
  },
  {
   "cell_type": "code",
   "execution_count": 118,
   "metadata": {},
   "outputs": [],
   "source": [
    "#pead_m = pead_m.dropna()"
   ]
  },
  {
   "cell_type": "code",
   "execution_count": 119,
   "metadata": {},
   "outputs": [],
   "source": [
    "pead_m['exret'] = pead_m.ret-pead_m.ret_m"
   ]
  },
  {
   "cell_type": "code",
   "execution_count": 120,
   "metadata": {},
   "outputs": [],
   "source": [
    "pead_m['roll_sd'] = pead_m.groupby('permno')['exret'].transform(lambda x: x.rolling(60).std())"
   ]
  },
  {
   "cell_type": "code",
   "execution_count": 121,
   "metadata": {},
   "outputs": [
    {
     "data": {
      "text/plain": [
       "permno         0\n",
       "ret           19\n",
       "cap            9\n",
       "ann            0\n",
       "ret_m          0\n",
       "exret         19\n",
       "roll_sd    59418\n",
       "dtype: int64"
      ]
     },
     "execution_count": 121,
     "metadata": {},
     "output_type": "execute_result"
    }
   ],
   "source": [
    "pead_m.isna().sum()"
   ]
  },
  {
   "cell_type": "code",
   "execution_count": 122,
   "metadata": {},
   "outputs": [
    {
     "name": "stdout",
     "output_type": "stream",
     "text": [
      "            permno       ret           cap  ann     ret_m     exret   roll_sd\n",
      "date                                                                         \n",
      "2011-01-05   90386  0.028400  3.437329e+07    1  0.005377  0.023023       NaN\n",
      "2011-01-06   53866 -0.013336  5.610230e+06    1 -0.002525 -0.010811       NaN\n",
      "2011-01-07   65307  0.006748  2.910228e+06    1 -0.001951  0.008699       NaN\n",
      "2011-01-07   69796 -0.017641  3.657493e+06    1 -0.001951 -0.015690       NaN\n",
      "2011-01-07   80032 -0.048124  2.825048e+06    1 -0.001951 -0.046173       NaN\n",
      "...            ...       ...           ...  ...       ...       ...       ...\n",
      "2018-12-21   19502 -0.033759  6.345611e+07    1 -0.020586 -0.013173  0.011603\n",
      "2018-12-21   23660  0.005848  1.710015e+07    1 -0.020586  0.026434  0.010414\n",
      "2018-12-21   56274 -0.087727  1.075631e+07    1 -0.020586 -0.067141  0.031533\n",
      "2018-12-21   57665  0.071672  9.213186e+07    1 -0.020586  0.092258  0.016797\n",
      "2018-12-24   89508  0.001526  1.031137e+07    1 -0.024171  0.025697  0.017319\n",
      "\n",
      "[27510 rows x 7 columns]\n"
     ]
    },
    {
     "name": "stderr",
     "output_type": "stream",
     "text": [
      "/Users/elinaharutyunyan/opt/anaconda3/lib/python3.7/site-packages/ipykernel_launcher.py:3: SettingWithCopyWarning: \n",
      "A value is trying to be set on a copy of a slice from a DataFrame.\n",
      "Try using .loc[row_indexer,col_indexer] = value instead\n",
      "\n",
      "See the caveats in the documentation: http://pandas.pydata.org/pandas-docs/stable/user_guide/indexing.html#returning-a-view-versus-a-copy\n",
      "  This is separate from the ipykernel package so we can avoid doing imports until\n"
     ]
    }
   ],
   "source": [
    "pead_ann = pead_m[pead_m.ann == 1]\n",
    "print(pead_ann)\n",
    "pead_ann['exret_sd'] = \"\""
   ]
  },
  {
   "cell_type": "code",
   "execution_count": 123,
   "metadata": {},
   "outputs": [
    {
     "name": "stderr",
     "output_type": "stream",
     "text": [
      "/Users/elinaharutyunyan/opt/anaconda3/lib/python3.7/site-packages/pandas/core/generic.py:5208: SettingWithCopyWarning: \n",
      "A value is trying to be set on a copy of a slice from a DataFrame.\n",
      "Try using .loc[row_indexer,col_indexer] = value instead\n",
      "\n",
      "See the caveats in the documentation: http://pandas.pydata.org/pandas-docs/stable/user_guide/indexing.html#returning-a-view-versus-a-copy\n",
      "  self[name] = value\n"
     ]
    }
   ],
   "source": [
    "def ex_ret_calc(row):\n",
    "    return (row['exret'])/row['roll_sd']\n",
    "\n",
    "pead_ann.exret_sd = pead_ann.apply(ex_ret_calc,axis = 1)"
   ]
  },
  {
   "cell_type": "code",
   "execution_count": 124,
   "metadata": {},
   "outputs": [],
   "source": [
    "exret_sd = pead_ann[['permno','exret_sd']]"
   ]
  },
  {
   "cell_type": "code",
   "execution_count": 125,
   "metadata": {},
   "outputs": [],
   "source": [
    "#pead_ann['date'] = pead_ann.index\n",
    "#exret_sd['date'] = exret_sd.index"
   ]
  },
  {
   "cell_type": "code",
   "execution_count": 126,
   "metadata": {},
   "outputs": [],
   "source": [
    "pead_m = pd.merge(pead_m, exret_sd,  how='left', left_on=['date','permno'], right_on = ['date','permno'])"
   ]
  },
  {
   "cell_type": "code",
   "execution_count": 135,
   "metadata": {},
   "outputs": [],
   "source": [
    "pead_m = pead_m.sort_values(by=['permno','date'],ascending = [True,True])"
   ]
  },
  {
   "cell_type": "code",
   "execution_count": 136,
   "metadata": {},
   "outputs": [],
   "source": [
    "pead_m['avg_30'] = pead_m.groupby('permno')['exret'].transform(lambda x: x.rolling(30).mean().shift(-30))\n",
    "pead_m['cum30'] = pead_m.groupby('permno')['exret'].transform(lambda x: x.rolling(30).sum().shift(-30))"
   ]
  },
  {
   "cell_type": "code",
   "execution_count": 139,
   "metadata": {},
   "outputs": [
    {
     "data": {
      "text/plain": [
       "permno            0\n",
       "ret              77\n",
       "cap               9\n",
       "ann               0\n",
       "ret_m             0\n",
       "exret            77\n",
       "roll_sd       59476\n",
       "exret_sd    1700854\n",
       "avg_30        30344\n",
       "cum30         30344\n",
       "dtype: int64"
      ]
     },
     "execution_count": 139,
     "metadata": {},
     "output_type": "execute_result"
    }
   ],
   "source": [
    "pead_m.isna().sum()"
   ]
  },
  {
   "cell_type": "code",
   "execution_count": 140,
   "metadata": {},
   "outputs": [],
   "source": [
    "high = pead_m[(pead_m.ann == 1) & (pead_m.exret_sd >3)]\n",
    "low = pead_m[(pead_m.ann == 1) & (pead_m.exret_sd <-3)]"
   ]
  },
  {
   "cell_type": "code",
   "execution_count": 143,
   "metadata": {},
   "outputs": [
    {
     "name": "stdout",
     "output_type": "stream",
     "text": [
      "(2702, 10)\n",
      "(2627, 10)\n"
     ]
    }
   ],
   "source": [
    "print(high.shape)\n",
    "print(low.shape)"
   ]
  },
  {
   "cell_type": "code",
   "execution_count": 153,
   "metadata": {
    "scrolled": true
   },
   "outputs": [
    {
     "name": "stdout",
     "output_type": "stream",
     "text": [
      "0.0002\n",
      "4.310358738669777e-05\n",
      "0.00635\n",
      "0.0013\n"
     ]
    }
   ],
   "source": [
    "print(round(high.avg_30.mean(),4))\n",
    "print(low.avg_30.mean())\n",
    "print(round(high.cum30.mean(),5))\n",
    "print(round(low.cum30.mean(),4))"
   ]
  },
  {
   "cell_type": "code",
   "execution_count": 154,
   "metadata": {},
   "outputs": [
    {
     "name": "stdout",
     "output_type": "stream",
     "text": [
      "4.0841922189951765\n"
     ]
    }
   ],
   "source": [
    "tstat_high = high.avg_30.mean()/(high.avg_30.std()/math.sqrt(len(high)))\n",
    "print(tstat_high)"
   ]
  },
  {
   "cell_type": "code",
   "execution_count": 155,
   "metadata": {},
   "outputs": [
    {
     "name": "stdout",
     "output_type": "stream",
     "text": [
      "0.7413008127038351\n"
     ]
    }
   ],
   "source": [
    "tstat_low = low.avg_30.mean()/(low.avg_30.std()/math.sqrt(len(low)))\n",
    "print(tstat_low)"
   ]
  },
  {
   "cell_type": "markdown",
   "metadata": {},
   "source": [
    "##  Part b"
   ]
  },
  {
   "cell_type": "code",
   "execution_count": 158,
   "metadata": {},
   "outputs": [
    {
     "name": "stderr",
     "output_type": "stream",
     "text": [
      "/Users/elinaharutyunyan/opt/anaconda3/lib/python3.7/site-packages/ipykernel_launcher.py:1: SettingWithCopyWarning: \n",
      "A value is trying to be set on a copy of a slice from a DataFrame.\n",
      "Try using .loc[row_indexer,col_indexer] = value instead\n",
      "\n",
      "See the caveats in the documentation: http://pandas.pydata.org/pandas-docs/stable/user_guide/indexing.html#returning-a-view-versus-a-copy\n",
      "  \"\"\"Entry point for launching an IPython kernel.\n",
      "/Users/elinaharutyunyan/opt/anaconda3/lib/python3.7/site-packages/ipykernel_launcher.py:2: SettingWithCopyWarning: \n",
      "A value is trying to be set on a copy of a slice from a DataFrame.\n",
      "Try using .loc[row_indexer,col_indexer] = value instead\n",
      "\n",
      "See the caveats in the documentation: http://pandas.pydata.org/pandas-docs/stable/user_guide/indexing.html#returning-a-view-versus-a-copy\n",
      "  \n"
     ]
    }
   ],
   "source": [
    "high['date'] = high.index\n",
    "low['date'] = low.index"
   ]
  },
  {
   "cell_type": "code",
   "execution_count": 159,
   "metadata": {},
   "outputs": [],
   "source": [
    "high = high.reset_index(drop = True)\n",
    "low = low.reset_index(drop = True)"
   ]
  },
  {
   "cell_type": "code",
   "execution_count": 160,
   "metadata": {},
   "outputs": [
    {
     "data": {
      "text/html": [
       "<div>\n",
       "<style scoped>\n",
       "    .dataframe tbody tr th:only-of-type {\n",
       "        vertical-align: middle;\n",
       "    }\n",
       "\n",
       "    .dataframe tbody tr th {\n",
       "        vertical-align: top;\n",
       "    }\n",
       "\n",
       "    .dataframe thead th {\n",
       "        text-align: right;\n",
       "    }\n",
       "</style>\n",
       "<table border=\"1\" class=\"dataframe\">\n",
       "  <thead>\n",
       "    <tr style=\"text-align: right;\">\n",
       "      <th></th>\n",
       "      <th>permno</th>\n",
       "      <th>ret</th>\n",
       "      <th>cap</th>\n",
       "      <th>ann</th>\n",
       "      <th>ret_m</th>\n",
       "      <th>exret</th>\n",
       "      <th>roll_sd</th>\n",
       "      <th>exret_sd</th>\n",
       "      <th>avg_30</th>\n",
       "      <th>cum30</th>\n",
       "      <th>date</th>\n",
       "    </tr>\n",
       "  </thead>\n",
       "  <tbody>\n",
       "    <tr>\n",
       "      <td>0</td>\n",
       "      <td>10104</td>\n",
       "      <td>0.041975</td>\n",
       "      <td>1.490175e+08</td>\n",
       "      <td>1</td>\n",
       "      <td>-0.029438</td>\n",
       "      <td>0.071413</td>\n",
       "      <td>0.015330</td>\n",
       "      <td>4.658306</td>\n",
       "      <td>0.001060</td>\n",
       "      <td>0.031815</td>\n",
       "      <td>2011-09-21</td>\n",
       "    </tr>\n",
       "    <tr>\n",
       "      <td>1</td>\n",
       "      <td>10104</td>\n",
       "      <td>0.036800</td>\n",
       "      <td>1.613922e+08</td>\n",
       "      <td>1</td>\n",
       "      <td>-0.004647</td>\n",
       "      <td>0.041447</td>\n",
       "      <td>0.009678</td>\n",
       "      <td>4.282566</td>\n",
       "      <td>-0.000496</td>\n",
       "      <td>-0.014866</td>\n",
       "      <td>2012-12-19</td>\n",
       "    </tr>\n",
       "    <tr>\n",
       "      <td>2</td>\n",
       "      <td>10104</td>\n",
       "      <td>0.057803</td>\n",
       "      <td>1.668030e+08</td>\n",
       "      <td>1</td>\n",
       "      <td>-0.001018</td>\n",
       "      <td>0.058821</td>\n",
       "      <td>0.011044</td>\n",
       "      <td>5.326017</td>\n",
       "      <td>0.000257</td>\n",
       "      <td>0.007702</td>\n",
       "      <td>2013-12-19</td>\n",
       "    </tr>\n",
       "    <tr>\n",
       "      <td>3</td>\n",
       "      <td>10104</td>\n",
       "      <td>0.101798</td>\n",
       "      <td>2.009596e+08</td>\n",
       "      <td>1</td>\n",
       "      <td>0.021551</td>\n",
       "      <td>0.080247</td>\n",
       "      <td>0.013810</td>\n",
       "      <td>5.810754</td>\n",
       "      <td>-0.001704</td>\n",
       "      <td>-0.051109</td>\n",
       "      <td>2014-12-18</td>\n",
       "    </tr>\n",
       "    <tr>\n",
       "      <td>4</td>\n",
       "      <td>10104</td>\n",
       "      <td>0.038203</td>\n",
       "      <td>1.689731e+08</td>\n",
       "      <td>1</td>\n",
       "      <td>0.007492</td>\n",
       "      <td>0.030711</td>\n",
       "      <td>0.008067</td>\n",
       "      <td>3.807125</td>\n",
       "      <td>-0.000903</td>\n",
       "      <td>-0.027086</td>\n",
       "      <td>2016-03-16</td>\n",
       "    </tr>\n",
       "    <tr>\n",
       "      <td>...</td>\n",
       "      <td>...</td>\n",
       "      <td>...</td>\n",
       "      <td>...</td>\n",
       "      <td>...</td>\n",
       "      <td>...</td>\n",
       "      <td>...</td>\n",
       "      <td>...</td>\n",
       "      <td>...</td>\n",
       "      <td>...</td>\n",
       "      <td>...</td>\n",
       "      <td>...</td>\n",
       "    </tr>\n",
       "    <tr>\n",
       "      <td>2697</td>\n",
       "      <td>93436</td>\n",
       "      <td>0.096474</td>\n",
       "      <td>3.467853e+06</td>\n",
       "      <td>1</td>\n",
       "      <td>0.002875</td>\n",
       "      <td>0.093599</td>\n",
       "      <td>0.026693</td>\n",
       "      <td>3.506503</td>\n",
       "      <td>0.002145</td>\n",
       "      <td>0.064339</td>\n",
       "      <td>2012-05-10</td>\n",
       "    </tr>\n",
       "    <tr>\n",
       "      <td>2698</td>\n",
       "      <td>93436</td>\n",
       "      <td>0.244029</td>\n",
       "      <td>8.019378e+06</td>\n",
       "      <td>1</td>\n",
       "      <td>-0.003687</td>\n",
       "      <td>0.247716</td>\n",
       "      <td>0.047852</td>\n",
       "      <td>5.176706</td>\n",
       "      <td>0.014282</td>\n",
       "      <td>0.428473</td>\n",
       "      <td>2013-05-09</td>\n",
       "    </tr>\n",
       "    <tr>\n",
       "      <td>2699</td>\n",
       "      <td>93436</td>\n",
       "      <td>0.143411</td>\n",
       "      <td>1.864015e+07</td>\n",
       "      <td>1</td>\n",
       "      <td>0.005442</td>\n",
       "      <td>0.137969</td>\n",
       "      <td>0.044431</td>\n",
       "      <td>3.105251</td>\n",
       "      <td>0.005735</td>\n",
       "      <td>0.172055</td>\n",
       "      <td>2013-08-08</td>\n",
       "    </tr>\n",
       "    <tr>\n",
       "      <td>2700</td>\n",
       "      <td>93436</td>\n",
       "      <td>0.111735</td>\n",
       "      <td>3.033218e+07</td>\n",
       "      <td>1</td>\n",
       "      <td>-0.003391</td>\n",
       "      <td>0.115126</td>\n",
       "      <td>0.026357</td>\n",
       "      <td>4.367993</td>\n",
       "      <td>0.001714</td>\n",
       "      <td>0.051428</td>\n",
       "      <td>2015-11-04</td>\n",
       "    </tr>\n",
       "    <tr>\n",
       "      <td>2701</td>\n",
       "      <td>93436</td>\n",
       "      <td>0.161880</td>\n",
       "      <td>5.962908e+07</td>\n",
       "      <td>1</td>\n",
       "      <td>0.005508</td>\n",
       "      <td>0.156372</td>\n",
       "      <td>0.032974</td>\n",
       "      <td>4.742259</td>\n",
       "      <td>-0.005749</td>\n",
       "      <td>-0.172485</td>\n",
       "      <td>2018-08-02</td>\n",
       "    </tr>\n",
       "  </tbody>\n",
       "</table>\n",
       "<p>2702 rows × 11 columns</p>\n",
       "</div>"
      ],
      "text/plain": [
       "      permno       ret           cap  ann     ret_m     exret   roll_sd  \\\n",
       "0      10104  0.041975  1.490175e+08    1 -0.029438  0.071413  0.015330   \n",
       "1      10104  0.036800  1.613922e+08    1 -0.004647  0.041447  0.009678   \n",
       "2      10104  0.057803  1.668030e+08    1 -0.001018  0.058821  0.011044   \n",
       "3      10104  0.101798  2.009596e+08    1  0.021551  0.080247  0.013810   \n",
       "4      10104  0.038203  1.689731e+08    1  0.007492  0.030711  0.008067   \n",
       "...      ...       ...           ...  ...       ...       ...       ...   \n",
       "2697   93436  0.096474  3.467853e+06    1  0.002875  0.093599  0.026693   \n",
       "2698   93436  0.244029  8.019378e+06    1 -0.003687  0.247716  0.047852   \n",
       "2699   93436  0.143411  1.864015e+07    1  0.005442  0.137969  0.044431   \n",
       "2700   93436  0.111735  3.033218e+07    1 -0.003391  0.115126  0.026357   \n",
       "2701   93436  0.161880  5.962908e+07    1  0.005508  0.156372  0.032974   \n",
       "\n",
       "      exret_sd    avg_30     cum30       date  \n",
       "0     4.658306  0.001060  0.031815 2011-09-21  \n",
       "1     4.282566 -0.000496 -0.014866 2012-12-19  \n",
       "2     5.326017  0.000257  0.007702 2013-12-19  \n",
       "3     5.810754 -0.001704 -0.051109 2014-12-18  \n",
       "4     3.807125 -0.000903 -0.027086 2016-03-16  \n",
       "...        ...       ...       ...        ...  \n",
       "2697  3.506503  0.002145  0.064339 2012-05-10  \n",
       "2698  5.176706  0.014282  0.428473 2013-05-09  \n",
       "2699  3.105251  0.005735  0.172055 2013-08-08  \n",
       "2700  4.367993  0.001714  0.051428 2015-11-04  \n",
       "2701  4.742259 -0.005749 -0.172485 2018-08-02  \n",
       "\n",
       "[2702 rows x 11 columns]"
      ]
     },
     "execution_count": 160,
     "metadata": {},
     "output_type": "execute_result"
    }
   ],
   "source": [
    "high = high.sort_values(by=['permno','date'],ascending = [True,True])\n",
    "low = low.sort_values(by=['permno','date'],ascending = [True,True])"
   ]
  },
  {
   "cell_type": "code",
   "execution_count": 161,
   "metadata": {},
   "outputs": [
    {
     "data": {
      "text/html": [
       "<div>\n",
       "<style scoped>\n",
       "    .dataframe tbody tr th:only-of-type {\n",
       "        vertical-align: middle;\n",
       "    }\n",
       "\n",
       "    .dataframe tbody tr th {\n",
       "        vertical-align: top;\n",
       "    }\n",
       "\n",
       "    .dataframe thead th {\n",
       "        text-align: right;\n",
       "    }\n",
       "</style>\n",
       "<table border=\"1\" class=\"dataframe\">\n",
       "  <thead>\n",
       "    <tr style=\"text-align: right;\">\n",
       "      <th></th>\n",
       "      <th>1</th>\n",
       "      <th>2</th>\n",
       "      <th>3</th>\n",
       "      <th>4</th>\n",
       "      <th>5</th>\n",
       "      <th>6</th>\n",
       "      <th>7</th>\n",
       "      <th>8</th>\n",
       "      <th>9</th>\n",
       "      <th>10</th>\n",
       "      <th>...</th>\n",
       "      <th>991</th>\n",
       "      <th>992</th>\n",
       "      <th>993</th>\n",
       "      <th>994</th>\n",
       "      <th>995</th>\n",
       "      <th>996</th>\n",
       "      <th>997</th>\n",
       "      <th>998</th>\n",
       "      <th>999</th>\n",
       "      <th>1000</th>\n",
       "    </tr>\n",
       "  </thead>\n",
       "  <tbody>\n",
       "    <tr>\n",
       "      <td>0</td>\n",
       "      <td>0.000320</td>\n",
       "      <td>0.002154</td>\n",
       "      <td>-0.006150</td>\n",
       "      <td>0.004983</td>\n",
       "      <td>0.003776</td>\n",
       "      <td>0.000000</td>\n",
       "      <td>-0.002945</td>\n",
       "      <td>-0.006599</td>\n",
       "      <td>-0.008230</td>\n",
       "      <td>-0.006605</td>\n",
       "      <td>...</td>\n",
       "      <td>0.005283</td>\n",
       "      <td>0.000000</td>\n",
       "      <td>0.016181</td>\n",
       "      <td>0.000000</td>\n",
       "      <td>-0.016393</td>\n",
       "      <td>-0.020324</td>\n",
       "      <td>-0.015028</td>\n",
       "      <td>0.007804</td>\n",
       "      <td>0.008331</td>\n",
       "      <td>0.004906</td>\n",
       "    </tr>\n",
       "    <tr>\n",
       "      <td>1</td>\n",
       "      <td>0.010224</td>\n",
       "      <td>0.002508</td>\n",
       "      <td>0.019389</td>\n",
       "      <td>0.019213</td>\n",
       "      <td>0.019752</td>\n",
       "      <td>0.009170</td>\n",
       "      <td>0.013857</td>\n",
       "      <td>0.018367</td>\n",
       "      <td>0.007801</td>\n",
       "      <td>0.002602</td>\n",
       "      <td>...</td>\n",
       "      <td>0.023184</td>\n",
       "      <td>0.004061</td>\n",
       "      <td>-0.015924</td>\n",
       "      <td>0.070434</td>\n",
       "      <td>0.019565</td>\n",
       "      <td>0.017864</td>\n",
       "      <td>0.002474</td>\n",
       "      <td>0.037979</td>\n",
       "      <td>0.005784</td>\n",
       "      <td>-0.000375</td>\n",
       "    </tr>\n",
       "    <tr>\n",
       "      <td>2</td>\n",
       "      <td>-0.004428</td>\n",
       "      <td>0.003842</td>\n",
       "      <td>0.007689</td>\n",
       "      <td>-0.022803</td>\n",
       "      <td>-0.013466</td>\n",
       "      <td>-0.000433</td>\n",
       "      <td>-0.010531</td>\n",
       "      <td>-0.011512</td>\n",
       "      <td>-0.006423</td>\n",
       "      <td>-0.004325</td>\n",
       "      <td>...</td>\n",
       "      <td>0.056496</td>\n",
       "      <td>0.024120</td>\n",
       "      <td>0.002158</td>\n",
       "      <td>0.013772</td>\n",
       "      <td>0.002843</td>\n",
       "      <td>0.001698</td>\n",
       "      <td>-0.002468</td>\n",
       "      <td>-0.026288</td>\n",
       "      <td>-0.000274</td>\n",
       "      <td>0.001878</td>\n",
       "    </tr>\n",
       "    <tr>\n",
       "      <td>3</td>\n",
       "      <td>-0.013977</td>\n",
       "      <td>-0.003115</td>\n",
       "      <td>0.002008</td>\n",
       "      <td>0.013690</td>\n",
       "      <td>0.016642</td>\n",
       "      <td>0.014286</td>\n",
       "      <td>0.000906</td>\n",
       "      <td>0.015916</td>\n",
       "      <td>-0.000497</td>\n",
       "      <td>-0.000869</td>\n",
       "      <td>...</td>\n",
       "      <td>0.043752</td>\n",
       "      <td>0.017554</td>\n",
       "      <td>0.006243</td>\n",
       "      <td>-0.003019</td>\n",
       "      <td>-0.008505</td>\n",
       "      <td>0.006594</td>\n",
       "      <td>0.003711</td>\n",
       "      <td>0.001459</td>\n",
       "      <td>0.001917</td>\n",
       "      <td>0.005999</td>\n",
       "    </tr>\n",
       "    <tr>\n",
       "      <td>4</td>\n",
       "      <td>0.004188</td>\n",
       "      <td>0.029286</td>\n",
       "      <td>0.004008</td>\n",
       "      <td>0.000000</td>\n",
       "      <td>-0.000184</td>\n",
       "      <td>0.010243</td>\n",
       "      <td>0.010181</td>\n",
       "      <td>0.005732</td>\n",
       "      <td>0.024876</td>\n",
       "      <td>0.005797</td>\n",
       "      <td>...</td>\n",
       "      <td>-0.003288</td>\n",
       "      <td>-0.008482</td>\n",
       "      <td>0.011767</td>\n",
       "      <td>0.002271</td>\n",
       "      <td>0.002144</td>\n",
       "      <td>0.019839</td>\n",
       "      <td>0.016434</td>\n",
       "      <td>-0.029144</td>\n",
       "      <td>0.000273</td>\n",
       "      <td>0.039135</td>\n",
       "    </tr>\n",
       "    <tr>\n",
       "      <td>...</td>\n",
       "      <td>...</td>\n",
       "      <td>...</td>\n",
       "      <td>...</td>\n",
       "      <td>...</td>\n",
       "      <td>...</td>\n",
       "      <td>...</td>\n",
       "      <td>...</td>\n",
       "      <td>...</td>\n",
       "      <td>...</td>\n",
       "      <td>...</td>\n",
       "      <td>...</td>\n",
       "      <td>...</td>\n",
       "      <td>...</td>\n",
       "      <td>...</td>\n",
       "      <td>...</td>\n",
       "      <td>...</td>\n",
       "      <td>...</td>\n",
       "      <td>...</td>\n",
       "      <td>...</td>\n",
       "      <td>...</td>\n",
       "      <td>...</td>\n",
       "    </tr>\n",
       "    <tr>\n",
       "      <td>2008</td>\n",
       "      <td>-0.029773</td>\n",
       "      <td>-0.041739</td>\n",
       "      <td>NaN</td>\n",
       "      <td>-0.021088</td>\n",
       "      <td>-0.035615</td>\n",
       "      <td>NaN</td>\n",
       "      <td>-0.033256</td>\n",
       "      <td>-0.010764</td>\n",
       "      <td>NaN</td>\n",
       "      <td>NaN</td>\n",
       "      <td>...</td>\n",
       "      <td>-0.005012</td>\n",
       "      <td>NaN</td>\n",
       "      <td>-0.033866</td>\n",
       "      <td>NaN</td>\n",
       "      <td>-0.019054</td>\n",
       "      <td>NaN</td>\n",
       "      <td>-0.044542</td>\n",
       "      <td>-0.057654</td>\n",
       "      <td>-0.037665</td>\n",
       "      <td>-0.076242</td>\n",
       "    </tr>\n",
       "    <tr>\n",
       "      <td>2009</td>\n",
       "      <td>0.044507</td>\n",
       "      <td>0.068310</td>\n",
       "      <td>NaN</td>\n",
       "      <td>0.055327</td>\n",
       "      <td>0.037972</td>\n",
       "      <td>NaN</td>\n",
       "      <td>0.048878</td>\n",
       "      <td>0.022035</td>\n",
       "      <td>NaN</td>\n",
       "      <td>NaN</td>\n",
       "      <td>...</td>\n",
       "      <td>0.046710</td>\n",
       "      <td>NaN</td>\n",
       "      <td>0.066741</td>\n",
       "      <td>NaN</td>\n",
       "      <td>0.033828</td>\n",
       "      <td>NaN</td>\n",
       "      <td>0.065660</td>\n",
       "      <td>0.135021</td>\n",
       "      <td>0.105675</td>\n",
       "      <td>0.103930</td>\n",
       "    </tr>\n",
       "    <tr>\n",
       "      <td>2010</td>\n",
       "      <td>0.008522</td>\n",
       "      <td>0.006166</td>\n",
       "      <td>NaN</td>\n",
       "      <td>0.018516</td>\n",
       "      <td>0.015436</td>\n",
       "      <td>NaN</td>\n",
       "      <td>0.023553</td>\n",
       "      <td>-0.008784</td>\n",
       "      <td>NaN</td>\n",
       "      <td>NaN</td>\n",
       "      <td>...</td>\n",
       "      <td>0.026542</td>\n",
       "      <td>NaN</td>\n",
       "      <td>0.001577</td>\n",
       "      <td>NaN</td>\n",
       "      <td>-0.000422</td>\n",
       "      <td>NaN</td>\n",
       "      <td>-0.003697</td>\n",
       "      <td>0.035316</td>\n",
       "      <td>0.017699</td>\n",
       "      <td>-0.030544</td>\n",
       "    </tr>\n",
       "    <tr>\n",
       "      <td>2011</td>\n",
       "      <td>-0.003336</td>\n",
       "      <td>-0.007808</td>\n",
       "      <td>NaN</td>\n",
       "      <td>0.000329</td>\n",
       "      <td>-0.006157</td>\n",
       "      <td>NaN</td>\n",
       "      <td>0.000990</td>\n",
       "      <td>-0.008593</td>\n",
       "      <td>NaN</td>\n",
       "      <td>NaN</td>\n",
       "      <td>...</td>\n",
       "      <td>-0.000710</td>\n",
       "      <td>NaN</td>\n",
       "      <td>-0.000525</td>\n",
       "      <td>NaN</td>\n",
       "      <td>-0.014995</td>\n",
       "      <td>NaN</td>\n",
       "      <td>-0.008864</td>\n",
       "      <td>-0.019749</td>\n",
       "      <td>-0.026087</td>\n",
       "      <td>0.056116</td>\n",
       "    </tr>\n",
       "    <tr>\n",
       "      <td>2012</td>\n",
       "      <td>0.007363</td>\n",
       "      <td>0.011754</td>\n",
       "      <td>NaN</td>\n",
       "      <td>0.010729</td>\n",
       "      <td>0.010401</td>\n",
       "      <td>NaN</td>\n",
       "      <td>0.011123</td>\n",
       "      <td>0.035482</td>\n",
       "      <td>NaN</td>\n",
       "      <td>NaN</td>\n",
       "      <td>...</td>\n",
       "      <td>0.001280</td>\n",
       "      <td>NaN</td>\n",
       "      <td>0.004989</td>\n",
       "      <td>NaN</td>\n",
       "      <td>0.023156</td>\n",
       "      <td>NaN</td>\n",
       "      <td>0.016119</td>\n",
       "      <td>0.012821</td>\n",
       "      <td>0.005357</td>\n",
       "      <td>-0.003205</td>\n",
       "    </tr>\n",
       "  </tbody>\n",
       "</table>\n",
       "<p>2013 rows × 1000 columns</p>\n",
       "</div>"
      ],
      "text/plain": [
       "             1         2         3         4         5         6         7  \\\n",
       "0     0.000320  0.002154 -0.006150  0.004983  0.003776  0.000000 -0.002945   \n",
       "1     0.010224  0.002508  0.019389  0.019213  0.019752  0.009170  0.013857   \n",
       "2    -0.004428  0.003842  0.007689 -0.022803 -0.013466 -0.000433 -0.010531   \n",
       "3    -0.013977 -0.003115  0.002008  0.013690  0.016642  0.014286  0.000906   \n",
       "4     0.004188  0.029286  0.004008  0.000000 -0.000184  0.010243  0.010181   \n",
       "...        ...       ...       ...       ...       ...       ...       ...   \n",
       "2008 -0.029773 -0.041739       NaN -0.021088 -0.035615       NaN -0.033256   \n",
       "2009  0.044507  0.068310       NaN  0.055327  0.037972       NaN  0.048878   \n",
       "2010  0.008522  0.006166       NaN  0.018516  0.015436       NaN  0.023553   \n",
       "2011 -0.003336 -0.007808       NaN  0.000329 -0.006157       NaN  0.000990   \n",
       "2012  0.007363  0.011754       NaN  0.010729  0.010401       NaN  0.011123   \n",
       "\n",
       "             8         9        10  ...       991       992       993  \\\n",
       "0    -0.006599 -0.008230 -0.006605  ...  0.005283  0.000000  0.016181   \n",
       "1     0.018367  0.007801  0.002602  ...  0.023184  0.004061 -0.015924   \n",
       "2    -0.011512 -0.006423 -0.004325  ...  0.056496  0.024120  0.002158   \n",
       "3     0.015916 -0.000497 -0.000869  ...  0.043752  0.017554  0.006243   \n",
       "4     0.005732  0.024876  0.005797  ... -0.003288 -0.008482  0.011767   \n",
       "...        ...       ...       ...  ...       ...       ...       ...   \n",
       "2008 -0.010764       NaN       NaN  ... -0.005012       NaN -0.033866   \n",
       "2009  0.022035       NaN       NaN  ...  0.046710       NaN  0.066741   \n",
       "2010 -0.008784       NaN       NaN  ...  0.026542       NaN  0.001577   \n",
       "2011 -0.008593       NaN       NaN  ... -0.000710       NaN -0.000525   \n",
       "2012  0.035482       NaN       NaN  ...  0.001280       NaN  0.004989   \n",
       "\n",
       "           994       995       996       997       998       999      1000  \n",
       "0     0.000000 -0.016393 -0.020324 -0.015028  0.007804  0.008331  0.004906  \n",
       "1     0.070434  0.019565  0.017864  0.002474  0.037979  0.005784 -0.000375  \n",
       "2     0.013772  0.002843  0.001698 -0.002468 -0.026288 -0.000274  0.001878  \n",
       "3    -0.003019 -0.008505  0.006594  0.003711  0.001459  0.001917  0.005999  \n",
       "4     0.002271  0.002144  0.019839  0.016434 -0.029144  0.000273  0.039135  \n",
       "...        ...       ...       ...       ...       ...       ...       ...  \n",
       "2008       NaN -0.019054       NaN -0.044542 -0.057654 -0.037665 -0.076242  \n",
       "2009       NaN  0.033828       NaN  0.065660  0.135021  0.105675  0.103930  \n",
       "2010       NaN -0.000422       NaN -0.003697  0.035316  0.017699 -0.030544  \n",
       "2011       NaN -0.014995       NaN -0.008864 -0.019749 -0.026087  0.056116  \n",
       "2012       NaN  0.023156       NaN  0.016119  0.012821  0.005357 -0.003205  \n",
       "\n",
       "[2013 rows x 1000 columns]"
      ]
     },
     "execution_count": 161,
     "metadata": {},
     "output_type": "execute_result"
    }
   ],
   "source": [
    "ret_series = pd.read_csv(\"/Users/elinaharutyunyan/Desktop/MFin Spring 2020/Advanced Analytics of Finance/rets.csv\")\n",
    "ret_series = ret_series.iloc[:,2:]\n",
    "ret_series"
   ]
  },
  {
   "cell_type": "code",
   "execution_count": 164,
   "metadata": {},
   "outputs": [],
   "source": [
    "weights = np.zeros((2013,1000))\n",
    "trade_dates= pead_m.index.unique()\n",
    "stock_ids = pead_m.permno.unique()\n",
    "theta_f = np.zeros((2013,1))\n",
    "r_f = np.zeros((2013,1))\n",
    "dollars_inv = np.zeros((2013,1))\n",
    "n = 5"
   ]
  },
  {
   "cell_type": "code",
   "execution_count": 165,
   "metadata": {},
   "outputs": [
    {
     "name": "stdout",
     "output_type": "stream",
     "text": [
      "1867.0\n"
     ]
    }
   ],
   "source": [
    "date_idx = 0\n",
    "\n",
    "for d in trade_dates:\n",
    "    long = np.array(high.permno[high.date == d])\n",
    "    short = np.array(low.permno[low.date == d])\n",
    "    \n",
    "    mask_long = np.isin(stock_ids,long)\n",
    "    long_ids = np.argwhere(mask_long)\n",
    "    mask_short = np.isin(stock_ids,short)\n",
    "    short_ids = np.argwhere(mask_short)\n",
    "    \n",
    "    dollars_inv[(date_idx+1) : (date_idx+n+1),] += (len(long) + len(short))\n",
    "    \n",
    "    weights[(date_idx+1) : (date_idx+n+1),long_ids] +=1\n",
    "    weights[(date_idx+1) : (date_idx+n+1),short_ids] +=-1\n",
    "    \n",
    "    th_f= -(len(long) - len(short))\n",
    "    theta_f[(date_idx+1) : (date_idx+n+1),] = -(len(long) - len(short))\n",
    "    \n",
    "    if th_f <0: #net long\n",
    "        r_f[(date_idx+1) : (date_idx+n+1),] = -0.03/252\n",
    "    if th_f ==0:\n",
    "        r_f[(date_idx+1) : (date_idx+n+1),] = 0\n",
    "    else:\n",
    "        r_f[(date_idx+1) : (date_idx+n+1),] = 0.01/252\n",
    "        \n",
    "    date_idx = date_idx + 1\n",
    "    \n",
    "theta_f = theta_f.astype('float')\n",
    "theta_f[theta_f == 0] = None\n",
    "theta_f = abs(theta_f)\n",
    "print(np.nansum(theta_f))\n",
    "\n",
    "rets_5 = np.array(np.sum(weights*ret_series,axis = 1)).reshape(-1,1)\n",
    "rets_5 = (rets_5 + r_f*theta_f)/(theta_f+dollars_inv)\n",
    "cum_rets_5 = np.nancumprod(1+rets_5)"
   ]
  },
  {
   "cell_type": "code",
   "execution_count": 166,
   "metadata": {},
   "outputs": [
    {
     "name": "stdout",
     "output_type": "stream",
     "text": [
      "7501.0\n"
     ]
    }
   ],
   "source": [
    "weights = np.zeros((2013,1000))\n",
    "trade_dates= pead_m.index.unique()\n",
    "stock_ids = pead_m.permno.unique()\n",
    "theta_f = np.zeros((2013,1))\n",
    "r_f = np.zeros((2013,1))\n",
    "dollars_inv = np.zeros((2013,1))\n",
    "n = 10\n",
    "\n",
    "date_idx = 0\n",
    "\n",
    "for d in trade_dates:\n",
    "    long = np.array(high.permno[high.date == d])\n",
    "    short = np.array(low.permno[low.date == d])\n",
    "    \n",
    "    mask_long = np.isin(stock_ids,long)\n",
    "    long_ids = np.argwhere(mask_long)\n",
    "    mask_short = np.isin(stock_ids,short)\n",
    "    short_ids = np.argwhere(mask_short)\n",
    "    \n",
    "    dollars_inv[(date_idx+1) : (date_idx+n+1),] += (len(long) + len(short))\n",
    "    \n",
    "    weights[(date_idx+1) : (date_idx+n+1),long_ids] +=1\n",
    "    weights[(date_idx+1) : (date_idx+n+1),short_ids] +=-1\n",
    "    \n",
    "    th_f= -(len(long) - len(short))\n",
    "    theta_f[(date_idx+1) : (date_idx+n+1),] += -(len(long) - len(short))\n",
    "    \n",
    "    if th_f <0: #net long\n",
    "        r_f[(date_idx+1) : (date_idx+n+1),] = -0.03/252\n",
    "    if th_f ==0:\n",
    "        r_f[(date_idx+1) : (date_idx+n+1),] = 0\n",
    "    else:\n",
    "        r_f[(date_idx+1) : (date_idx+n+1),] = 0.01/252\n",
    "        \n",
    "    date_idx = date_idx + 1\n",
    "    \n",
    "theta_f = theta_f.astype('float')\n",
    "theta_f[theta_f == 0] = None\n",
    "theta_f = abs(theta_f)\n",
    "print(np.nansum(theta_f))\n",
    "\n",
    "rets_10 = np.array(np.sum(weights*ret_series,axis = 1)).reshape(-1,1)\n",
    "rets_10 = (rets_10 + r_f*theta_f)/(theta_f+dollars_inv)\n",
    "cum_rets_10 = np.nancumprod(1+rets_10)"
   ]
  },
  {
   "cell_type": "code",
   "execution_count": 167,
   "metadata": {},
   "outputs": [
    {
     "name": "stdout",
     "output_type": "stream",
     "text": [
      "10992.0\n"
     ]
    }
   ],
   "source": [
    "weights = np.zeros((2013,1000))\n",
    "trade_dates= pead_m.index.unique()\n",
    "stock_ids = pead_m.permno.unique()\n",
    "theta_f = np.zeros((2013,1))\n",
    "r_f = np.zeros((2013,1))\n",
    "dollars_inv = np.zeros((2013,1))\n",
    "n = 20\n",
    "\n",
    "date_idx = 0\n",
    "\n",
    "for d in trade_dates:\n",
    "    long = np.array(high.permno[high.date == d])\n",
    "    short = np.array(low.permno[low.date == d])\n",
    "    \n",
    "    mask_long = np.isin(stock_ids,long)\n",
    "    long_ids = np.argwhere(mask_long)\n",
    "    mask_short = np.isin(stock_ids,short)\n",
    "    short_ids = np.argwhere(mask_short)\n",
    "    \n",
    "    dollars_inv[(date_idx+1) : (date_idx+n+1),] += (len(long) + len(short))\n",
    "    \n",
    "    weights[(date_idx+1) : (date_idx+n+1),long_ids] +=1\n",
    "    weights[(date_idx+1) : (date_idx+n+1),short_ids] +=-1\n",
    "    \n",
    "    th_f= -(len(long) - len(short))\n",
    "    theta_f[(date_idx+1) : (date_idx+n+1),] += -(len(long) - len(short))\n",
    "    \n",
    "    if th_f <0: #net long\n",
    "        r_f[(date_idx+1) : (date_idx+n+1),] = -0.03/252\n",
    "    if th_f ==0:\n",
    "        r_f[(date_idx+1) : (date_idx+n+1),] = 0\n",
    "    else:\n",
    "        r_f[(date_idx+1) : (date_idx+n+1),] = 0.01/252\n",
    "        \n",
    "    date_idx = date_idx + 1\n",
    "    \n",
    "theta_f = theta_f.astype('float')\n",
    "theta_f[theta_f == 0] = None\n",
    "theta_f = abs(theta_f)\n",
    "print(np.nansum(theta_f))\n",
    "\n",
    "rets_20 = np.array(np.sum(weights*ret_series,axis = 1)).reshape(-1,1)\n",
    "rets_20 = (rets_20 + r_f*theta_f)/(theta_f+dollars_inv)\n",
    "cum_rets_20 = np.nancumprod(1+rets_20)"
   ]
  },
  {
   "cell_type": "code",
   "execution_count": 168,
   "metadata": {},
   "outputs": [
    {
     "name": "stdout",
     "output_type": "stream",
     "text": [
      "14452.0\n"
     ]
    }
   ],
   "source": [
    "weights = np.zeros((2013,1000))\n",
    "trade_dates= pead_m.index.unique()\n",
    "stock_ids = pead_m.permno.unique()\n",
    "theta_f = np.zeros((2013,1))\n",
    "r_f = np.zeros((2013,1))\n",
    "dollars_inv = np.zeros((2013,1))\n",
    "n = 30\n",
    "\n",
    "date_idx = 0\n",
    "\n",
    "for d in trade_dates:\n",
    "    long = np.array(high.permno[high.date == d])\n",
    "    short = np.array(low.permno[low.date == d])\n",
    "    \n",
    "    mask_long = np.isin(stock_ids,long)\n",
    "    long_ids = np.argwhere(mask_long)\n",
    "    mask_short = np.isin(stock_ids,short)\n",
    "    short_ids = np.argwhere(mask_short)\n",
    "    \n",
    "    dollars_inv[(date_idx+1) : (date_idx+n+1),] += (len(long) + len(short))\n",
    "    \n",
    "    weights[(date_idx+1) : (date_idx+n+1),long_ids] +=1\n",
    "    weights[(date_idx+1) : (date_idx+n+1),short_ids] +=-1\n",
    "    \n",
    "    th_f= -(len(long) - len(short))\n",
    "    theta_f[(date_idx+1) : (date_idx+n+1),] += -(len(long) - len(short))\n",
    "    \n",
    "    if th_f <0: #net long\n",
    "        r_f[(date_idx+1) : (date_idx+n+1),] = -0.03/252\n",
    "    if th_f ==0:\n",
    "        r_f[(date_idx+1) : (date_idx+n+1),] = 0\n",
    "    else:\n",
    "        r_f[(date_idx+1) : (date_idx+n+1),] = 0.01/252\n",
    "        \n",
    "    date_idx = date_idx + 1\n",
    "    \n",
    "theta_f = theta_f.astype('float')\n",
    "theta_f[theta_f == 0] = None\n",
    "theta_f = abs(theta_f)\n",
    "print(np.nansum(theta_f))\n",
    "\n",
    "rets_30 = np.array(np.sum(weights*ret_series,axis = 1)).reshape(-1,1)\n",
    "rets_30 = (rets_30 + r_f*theta_f)/(theta_f+dollars_inv)\n",
    "cum_rets_30 = np.nancumprod(1+rets_30)"
   ]
  },
  {
   "cell_type": "code",
   "execution_count": 173,
   "metadata": {},
   "outputs": [
    {
     "data": {
      "image/png": "[encoded data removed]",
      "text/plain": [
       "<Figure size 648x432 with 1 Axes>"
      ]
     },
     "metadata": {
      "needs_background": "light"
     },
     "output_type": "display_data"
    }
   ],
   "source": [
    "plt.figure(figsize=(9,6))\n",
    "plt.plot(trade_dates,cum_rets_5, label = '5 days')\n",
    "plt.plot(trade_dates,cum_rets_10, label = '10 days')\n",
    "plt.plot(trade_dates,cum_rets_20, label = '20 days')\n",
    "plt.plot(trade_dates,cum_rets_30, label = '30 days')\n",
    "plt.legend(bbox_to_anchor=(1.05, 1), loc='upper left', borderaxespad=0.)\n",
    "plt.title('Equally Weighted Portfolio')\n",
    "plt.show()"
   ]
  },
  {
   "cell_type": "code",
   "execution_count": 174,
   "metadata": {},
   "outputs": [],
   "source": [
    "rets_5 = rets_5.reshape(-1)\n",
    "rets_10 = rets_10.reshape(-1)\n",
    "rets_20 = rets_20.reshape(-1)\n",
    "rets_30 = rets_30.reshape(-1)"
   ]
  },
  {
   "cell_type": "code",
   "execution_count": 175,
   "metadata": {},
   "outputs": [],
   "source": [
    "exrets_5 = rets_5- market.ret_m\n",
    "exrets_10 = rets_10- market.ret_m\n",
    "exrets_20 = rets_20- market.ret_m\n",
    "exrets_30 = rets_30- market.ret_m"
   ]
  },
  {
   "cell_type": "markdown",
   "metadata": {},
   "source": [
    "## Part c: Analysis of portfolio returns"
   ]
  },
  {
   "cell_type": "code",
   "execution_count": 176,
   "metadata": {},
   "outputs": [
    {
     "data": {
      "image/png": "[encoded data removed]",
      "text/plain": [
       "<Figure size 576x432 with 1 Axes>"
      ]
     },
     "metadata": {
      "needs_background": "light"
     },
     "output_type": "display_data"
    }
   ],
   "source": [
    "plt.figure(figsize=(8,6))\n",
    "plt.scatter(x = rets_5, y = market.ret_m)\n",
    "plt.xlabel(\"Market Return\")\n",
    "plt.ylabel(\"Return of 5-day Strategy\")\n",
    "plt.show()"
   ]
  },
  {
   "cell_type": "code",
   "execution_count": 178,
   "metadata": {},
   "outputs": [
    {
     "data": {
      "image/png": "[encoded data removed]",
      "text/plain": [
       "<Figure size 576x432 with 1 Axes>"
      ]
     },
     "metadata": {
      "needs_background": "light"
     },
     "output_type": "display_data"
    }
   ],
   "source": [
    "plt.figure(figsize=(8,6))\n",
    "plt.scatter(x = rets_10, y = market.ret_m)\n",
    "plt.xlabel(\"Market Return\")\n",
    "plt.ylabel(\"Return of 10-day Strategy\")\n",
    "plt.show()"
   ]
  },
  {
   "cell_type": "code",
   "execution_count": 180,
   "metadata": {},
   "outputs": [
    {
     "data": {
      "image/png": "[encoded data removed]",
      "text/plain": [
       "<Figure size 576x432 with 1 Axes>"
      ]
     },
     "metadata": {
      "needs_background": "light"
     },
     "output_type": "display_data"
    }
   ],
   "source": [
    "plt.figure(figsize=(8,6))\n",
    "plt.scatter(x = rets_20, y = market.ret_m)\n",
    "plt.xlabel(\"Market Return\")\n",
    "plt.ylabel(\"Return of 20-day Strategy\")\n",
    "plt.show()"
   ]
  },
  {
   "cell_type": "code",
   "execution_count": 179,
   "metadata": {},
   "outputs": [
    {
     "data": {
      "image/png": "[encoded data removed]",
      "text/plain": [
       "<Figure size 576x432 with 1 Axes>"
      ]
     },
     "metadata": {
      "needs_background": "light"
     },
     "output_type": "display_data"
    }
   ],
   "source": [
    "plt.figure(figsize=(8,6))\n",
    "plt.scatter(x = rets_30, y = market.ret_m)\n",
    "plt.xlabel(\"Market Return\")\n",
    "plt.ylabel(\"Return of 30-day Strategy\")\n",
    "plt.show()"
   ]
  },
  {
   "cell_type": "code",
   "execution_count": 187,
   "metadata": {},
   "outputs": [
    {
     "data": {
      "image/png": "[encoded data removed]",
      "text/plain": [
       "<Figure size 576x432 with 1 Axes>"
      ]
     },
     "metadata": {
      "needs_background": "light"
     },
     "output_type": "display_data"
    }
   ],
   "source": [
    "filtered_data = rets_5[~np.isnan(rets_5)]\n",
    "plt.figure(figsize=(8,6))\n",
    "plt.boxplot(filtered_data)\n",
    "plt.title('Boxplot of Returns of 5-day Strategy')\n",
    "plt.show()"
   ]
  },
  {
   "cell_type": "code",
   "execution_count": 188,
   "metadata": {},
   "outputs": [
    {
     "data": {
      "image/png": "[encoded data removed]",
      "text/plain": [
       "<Figure size 576x432 with 1 Axes>"
      ]
     },
     "metadata": {
      "needs_background": "light"
     },
     "output_type": "display_data"
    }
   ],
   "source": [
    "filtered_data = rets_10[~np.isnan(rets_10)]\n",
    "plt.figure(figsize=(8,6))\n",
    "plt.boxplot(filtered_data)\n",
    "plt.title('Boxplot of Returns of 10-day Strategy')\n",
    "plt.show()"
   ]
  },
  {
   "cell_type": "code",
   "execution_count": 189,
   "metadata": {},
   "outputs": [
    {
     "data": {
      "image/png": "[encoded data removed]",
      "text/plain": [
       "<Figure size 576x432 with 1 Axes>"
      ]
     },
     "metadata": {
      "needs_background": "light"
     },
     "output_type": "display_data"
    }
   ],
   "source": [
    "filtered_data = rets_20[~np.isnan(rets_20)]\n",
    "plt.figure(figsize=(8,6))\n",
    "plt.boxplot(filtered_data)\n",
    "plt.title('Boxplot of Returns of 20-day Strategy')\n",
    "plt.show()"
   ]
  },
  {
   "cell_type": "code",
   "execution_count": 190,
   "metadata": {},
   "outputs": [
    {
     "data": {
      "image/png": "[encoded data removed]",
      "text/plain": [
       "<Figure size 576x432 with 1 Axes>"
      ]
     },
     "metadata": {
      "needs_background": "light"
     },
     "output_type": "display_data"
    }
   ],
   "source": [
    "filtered_data = rets_30[~np.isnan(rets_30)]\n",
    "plt.figure(figsize=(8,6))\n",
    "plt.boxplot(filtered_data)\n",
    "plt.title('Boxplot of Returns of 30-day Strategy')\n",
    "plt.show()"
   ]
  },
  {
   "cell_type": "code",
   "execution_count": 191,
   "metadata": {},
   "outputs": [
    {
     "name": "stdout",
     "output_type": "stream",
     "text": [
      "Annualized Mean Return with 5 days:  -2.949\n",
      "Annualized Mean Return with 10 days:  -11.671\n",
      "Annualized Mean Return with 20 days:  -6.502\n",
      "Annualized Mean Return with 30 days:  -7.565\n",
      "Annualized Standard Deviation of Excess Returns for 5 days:  18.039\n",
      "Annualized Standard Deviation of Excess Returns for 10 days:  16.69\n",
      "Annualized Standard Deviation of Excess Returns for 20 days:  15.864\n",
      "Annualized Standard Deviation of Excess Returns for 30 days:  15.451\n",
      "5 day Sharpe Ratio:  -0.163\n",
      "10 day Sharpe Ratio:  -0.699\n",
      "20 day Sharpe Ratio:  -0.41\n",
      "30 day Sharpe Ratio:  -0.49\n"
     ]
    }
   ],
   "source": [
    "#mean\n",
    "print(\"Annualized Mean Return with 5 days: \",round(np.nanmean(exrets_5)*252*100,3))\n",
    "print(\"Annualized Mean Return with 10 days: \",round(np.nanmean(exrets_10)*252*100,3))\n",
    "print(\"Annualized Mean Return with 20 days: \",round(np.nanmean(exrets_20)*252*100,3))\n",
    "print(\"Annualized Mean Return with 30 days: \",round(np.nanmean(exrets_30)*252*100,3))\n",
    "\n",
    "#standard deviation\n",
    "print(\"Annualized Standard Deviation of Excess Returns for 5 days: \",round(np.nanstd(exrets_5)*math.sqrt(252)*100,3))\n",
    "print(\"Annualized Standard Deviation of Excess Returns for 10 days: \",round(np.nanstd(exrets_10)*math.sqrt(252)*100,3))\n",
    "print(\"Annualized Standard Deviation of Excess Returns for 20 days: \",round(np.nanstd(exrets_20)*math.sqrt(252)*100,3))\n",
    "print(\"Annualized Standard Deviation of Excess Returns for 30 days: \",round(np.nanstd(exrets_30)*math.sqrt(252)*100,3))\n",
    "\n",
    "#Sharpe Ratio\n",
    "print(\"5 day Sharpe Ratio: \",round(np.nanmean(exrets_5)/np.nanstd(exrets_5)*math.sqrt(252),3))\n",
    "print(\"10 day Sharpe Ratio: \",round(np.nanmean(exrets_10)/np.nanstd(exrets_10)*math.sqrt(252),3))\n",
    "print(\"20 day Sharpe Ratio: \",round(np.nanmean(exrets_20)/np.nanstd(exrets_20)*math.sqrt(252),3))\n",
    "print(\"30 day Sharpe Ratio: \",round(np.nanmean(exrets_30)/np.nanstd(exrets_30)*math.sqrt(252),3))"
   ]
  },
  {
   "cell_type": "code",
   "execution_count": 192,
   "metadata": {},
   "outputs": [
    {
     "name": "stdout",
     "output_type": "stream",
     "text": [
      "Information Ratio of 5 day Strategy:  -0.482\n",
      "Information Ratio of 10 day Strategy:  -0.735\n",
      "Information Ratio of 20 day Strategy:  -0.537\n",
      "Information Ratio of 30 day Strategy:  -0.537\n"
     ]
    }
   ],
   "source": [
    "#information ratio\n",
    "IR_5 = (np.nanmean(rets_5)-market.ret_m.mean())/((rets_5-market.ret_m).std())\n",
    "IR_10 = (np.nanmean(rets_10)-market.ret_m.mean())/((rets_10-market.ret_m).std())\n",
    "IR_20 = (np.nanmean(rets_20)-market.ret_m.mean())/((rets_20-market.ret_m).std())\n",
    "IR_30 = (np.nanmean(rets_30)-market.ret_m.mean())/((rets_30-market.ret_m).std())\n",
    "\n",
    "print(\"Information Ratio of 5 day Strategy: \",round(IR_5*math.sqrt(252),3))\n",
    "print(\"Information Ratio of 10 day Strategy: \",round(IR_10*math.sqrt(252),3))\n",
    "print(\"Information Ratio of 20 day Strategy: \",round(IR_20*math.sqrt(252),3))\n",
    "print(\"Information Ratio of 30 day Strategy: \",round(IR_30*math.sqrt(252),3))"
   ]
  },
  {
   "cell_type": "code",
   "execution_count": 193,
   "metadata": {},
   "outputs": [
    {
     "data": {
      "image/png": "[encoded data removed]",
      "text/plain": [
       "<Figure size 576x432 with 1 Axes>"
      ]
     },
     "metadata": {
      "needs_background": "light"
     },
     "output_type": "display_data"
    },
    {
     "name": "stdout",
     "output_type": "stream",
     "text": [
      "Max Drawdown of 5 Day Strategy is:  14.854\n"
     ]
    }
   ],
   "source": [
    "#max drawdown 5 day strategy\n",
    "max_val = 0\n",
    "drawdown = []\n",
    "for i in range(cum_rets_5.shape[0]):\n",
    "    if cum_rets_5[i] > max_val:\n",
    "        max_val = cum_rets_5[i]\n",
    "    drawdown.append((max_val - cum_rets_5[i])/max_val)\n",
    "drawdown = pd.DataFrame(drawdown)\n",
    "plt.figure(figsize=(8,6))\n",
    "plt.plot(drawdown*100)\n",
    "plt.xlabel(\"Year\")\n",
    "plt.ylabel(\"%\")\n",
    "plt.title(\"5 Day Strategy\")\n",
    "plt.show()\n",
    "\n",
    "print(\"Max Drawdown of 5 Day Strategy is: \",round(drawdown[0].max()*100,3))"
   ]
  },
  {
   "cell_type": "code",
   "execution_count": 194,
   "metadata": {},
   "outputs": [
    {
     "data": {
      "image/png": "[encoded data removed]",
      "text/plain": [
       "<Figure size 576x432 with 1 Axes>"
      ]
     },
     "metadata": {
      "needs_background": "light"
     },
     "output_type": "display_data"
    },
    {
     "name": "stdout",
     "output_type": "stream",
     "text": [
      "Max Drawdown of 10 Day Strategy is:  20.721\n"
     ]
    }
   ],
   "source": [
    "#max drawdown 10 day strategy\n",
    "max_val = 0\n",
    "drawdown = []\n",
    "for i in range(cum_rets_10.shape[0]):\n",
    "    if cum_rets_10[i] > max_val:\n",
    "        max_val = cum_rets_10[i]\n",
    "    drawdown.append((max_val - cum_rets_10[i])/max_val)\n",
    "drawdown = pd.DataFrame(drawdown)\n",
    "plt.figure(figsize=(8,6))\n",
    "plt.plot(drawdown*100)\n",
    "plt.xlabel(\"Year\")\n",
    "plt.ylabel(\"%\")\n",
    "plt.title(\"10 Day Strategy\")\n",
    "plt.show()\n",
    "\n",
    "print(\"Max Drawdown of 10 Day Strategy is: \",round(drawdown[0].max()*100,3))"
   ]
  },
  {
   "cell_type": "code",
   "execution_count": 195,
   "metadata": {},
   "outputs": [
    {
     "data": {
      "image/png": "[encoded data removed]",
      "text/plain": [
       "<Figure size 576x432 with 1 Axes>"
      ]
     },
     "metadata": {
      "needs_background": "light"
     },
     "output_type": "display_data"
    },
    {
     "name": "stdout",
     "output_type": "stream",
     "text": [
      "Max Drawdown of 20 Day Strategy is:  15.289\n"
     ]
    }
   ],
   "source": [
    "#max drawdown 20 day strategy\n",
    "max_val = 0\n",
    "drawdown = []\n",
    "for i in range(cum_rets_20.shape[0]):\n",
    "    if cum_rets_20[i] > max_val:\n",
    "        max_val = cum_rets_20[i]\n",
    "    drawdown.append((max_val - cum_rets_20[i])/max_val)\n",
    "drawdown = pd.DataFrame(drawdown)\n",
    "plt.figure(figsize=(8,6))\n",
    "plt.plot(drawdown*100)\n",
    "plt.xlabel(\"Year\")\n",
    "plt.ylabel(\"%\")\n",
    "plt.title(\"20 Day Strategy\")\n",
    "plt.show()\n",
    "\n",
    "print(\"Max Drawdown of 20 Day Strategy is: \",round(drawdown[0].max()*100,3))"
   ]
  },
  {
   "cell_type": "code",
   "execution_count": 196,
   "metadata": {},
   "outputs": [
    {
     "data": {
      "image/png": "[encoded data removed]",
      "text/plain": [
       "<Figure size 576x432 with 1 Axes>"
      ]
     },
     "metadata": {
      "needs_background": "light"
     },
     "output_type": "display_data"
    },
    {
     "name": "stdout",
     "output_type": "stream",
     "text": [
      "Max Drawdown of 30 Day Strategy is:  7.292\n"
     ]
    }
   ],
   "source": [
    "#max drawdown 30 day strategy\n",
    "max_val = 0\n",
    "drawdown = []\n",
    "for i in range(cum_rets_30.shape[0]):\n",
    "    if cum_rets_30[i] > max_val:\n",
    "        max_val = cum_rets_30[i]\n",
    "    drawdown.append((max_val - cum_rets_30[i])/max_val)\n",
    "drawdown = pd.DataFrame(drawdown)\n",
    "plt.figure(figsize=(8,6))\n",
    "plt.plot(drawdown*100)\n",
    "plt.xlabel(\"Year\")\n",
    "plt.ylabel(\"%\")\n",
    "plt.title(\"30 Day Strategy\")\n",
    "plt.show()\n",
    "\n",
    "print(\"Max Drawdown of 30 Day Strategy is: \",round(drawdown[0].max()*100,3))"
   ]
  },
  {
   "cell_type": "markdown",
   "metadata": {},
   "source": [
    "# Fama French replication"
   ]
  },
  {
   "cell_type": "code",
   "execution_count": 204,
   "metadata": {},
   "outputs": [],
   "source": [
    "ff_data = pd.read_csv(\"/Users/elinaharutyunyan/Desktop/MFin Spring 2020/Advanced Analytics of Finance/F-F_Research_Data_Factors_daily 2.CSV\")\n",
    "ff_data.date = pd.to_datetime(ff_data.date, format = '%Y%m%d',errors = 'ignore')\n",
    "ff_data.set_index('date',inplace = True)\n",
    "ff_data = ff_data/100"
   ]
  },
  {
   "cell_type": "code",
   "execution_count": 205,
   "metadata": {},
   "outputs": [],
   "source": [
    "ff_data = ff_data['2010-12-31':'2018-12-31']"
   ]
  },
  {
   "cell_type": "code",
   "execution_count": 206,
   "metadata": {},
   "outputs": [],
   "source": [
    "exrets_5 = rets_5- ff_data.RF\n",
    "exrets_10 = rets_10- ff_data.RF\n",
    "exrets_20 = rets_20- ff_data.RF\n",
    "exrets_30 = rets_30- ff_data.RF"
   ]
  },
  {
   "cell_type": "code",
   "execution_count": 207,
   "metadata": {},
   "outputs": [
    {
     "name": "stdout",
     "output_type": "stream",
     "text": [
      "                            OLS Regression Results                            \n",
      "==============================================================================\n",
      "Dep. Variable:                     RF   R-squared:                       0.009\n",
      "Model:                            OLS   Adj. R-squared:                  0.006\n",
      "Method:                 Least Squares   F-statistic:                     2.975\n",
      "Date:                Tue, 14 Apr 2020   Prob (F-statistic):             0.0308\n",
      "Time:                        22:18:30   Log-Likelihood:                 3527.5\n",
      "No. Observations:                 957   AIC:                            -7047.\n",
      "Df Residuals:                     953   BIC:                            -7028.\n",
      "Df Model:                           3                                         \n",
      "Covariance Type:            nonrobust                                         \n",
      "==============================================================================\n",
      "                 coef    std err          t      P>|t|      [0.025      0.975]\n",
      "------------------------------------------------------------------------------\n",
      "const       4.017e-05      0.000      0.204      0.838      -0.000       0.000\n",
      "Mkt-RF         0.0130      0.021      0.618      0.537      -0.028       0.054\n",
      "SMB           -0.1048      0.040     -2.591      0.010      -0.184      -0.025\n",
      "HML            0.0456      0.040      1.155      0.248      -0.032       0.123\n",
      "==============================================================================\n",
      "Omnibus:                      102.038   Durbin-Watson:                   1.892\n",
      "Prob(Omnibus):                  0.000   Jarque-Bera (JB):              414.285\n",
      "Skew:                           0.425   Prob(JB):                     1.09e-90\n",
      "Kurtosis:                       6.109   Cond. No.                         218.\n",
      "==============================================================================\n",
      "\n",
      "Warnings:\n",
      "[1] Standard Errors assume that the covariance matrix of the errors is correctly specified.\n"
     ]
    }
   ],
   "source": [
    "x_vals = ff_data[['Mkt-RF','SMB','HML']]\n",
    "x_vals = sm.add_constant(x_vals)\n",
    "ols_5 = sm.OLS(exrets_5,x_vals, missing = 'drop').fit()\n",
    "print(ols_5.summary())"
   ]
  },
  {
   "cell_type": "code",
   "execution_count": 208,
   "metadata": {},
   "outputs": [
    {
     "name": "stdout",
     "output_type": "stream",
     "text": [
      "                            OLS Regression Results                            \n",
      "==============================================================================\n",
      "Dep. Variable:                     RF   R-squared:                       0.009\n",
      "Model:                            OLS   Adj. R-squared:                  0.007\n",
      "Method:                 Least Squares   F-statistic:                     5.298\n",
      "Date:                Tue, 14 Apr 2020   Prob (F-statistic):            0.00123\n",
      "Time:                        22:18:31   Log-Likelihood:                 6612.5\n",
      "No. Observations:                1717   AIC:                        -1.322e+04\n",
      "Df Residuals:                    1713   BIC:                        -1.320e+04\n",
      "Df Model:                           3                                         \n",
      "Covariance Type:            nonrobust                                         \n",
      "==============================================================================\n",
      "                 coef    std err          t      P>|t|      [0.025      0.975]\n",
      "------------------------------------------------------------------------------\n",
      "const         -0.0001      0.000     -0.820      0.412      -0.000       0.000\n",
      "Mkt-RF         0.0156      0.014      1.135      0.257      -0.011       0.043\n",
      "SMB           -0.0482      0.025     -1.904      0.057      -0.098       0.001\n",
      "HML            0.0801      0.025      3.152      0.002       0.030       0.130\n",
      "==============================================================================\n",
      "Omnibus:                     2356.550   Durbin-Watson:                   1.865\n",
      "Prob(Omnibus):                  0.000   Jarque-Bera (JB):          1951158.219\n",
      "Skew:                          -7.130   Prob(JB):                         0.00\n",
      "Kurtosis:                     167.529   Cond. No.                         219.\n",
      "==============================================================================\n",
      "\n",
      "Warnings:\n",
      "[1] Standard Errors assume that the covariance matrix of the errors is correctly specified.\n"
     ]
    }
   ],
   "source": [
    "x_vals = ff_data[['Mkt-RF','SMB','HML']]\n",
    "x_vals = sm.add_constant(x_vals)\n",
    "ols_10 = sm.OLS(exrets_10,x_vals, missing = 'drop').fit()\n",
    "print(ols_10.summary())"
   ]
  },
  {
   "cell_type": "code",
   "execution_count": 209,
   "metadata": {},
   "outputs": [
    {
     "name": "stdout",
     "output_type": "stream",
     "text": [
      "                            OLS Regression Results                            \n",
      "==============================================================================\n",
      "Dep. Variable:                     RF   R-squared:                       0.003\n",
      "Model:                            OLS   Adj. R-squared:                  0.002\n",
      "Method:                 Least Squares   F-statistic:                     1.973\n",
      "Date:                Tue, 14 Apr 2020   Prob (F-statistic):              0.116\n",
      "Time:                        22:18:32   Log-Likelihood:                 7726.1\n",
      "No. Observations:                1786   AIC:                        -1.544e+04\n",
      "Df Residuals:                    1782   BIC:                        -1.542e+04\n",
      "Df Model:                           3                                         \n",
      "Covariance Type:            nonrobust                                         \n",
      "==============================================================================\n",
      "                 coef    std err          t      P>|t|      [0.025      0.975]\n",
      "------------------------------------------------------------------------------\n",
      "const       5.342e-05   7.59e-05      0.704      0.482   -9.54e-05       0.000\n",
      "Mkt-RF        -0.0092      0.008     -1.104      0.270      -0.025       0.007\n",
      "SMB           -0.0267      0.016     -1.719      0.086      -0.057       0.004\n",
      "HML           -0.0002      0.016     -0.012      0.991      -0.031       0.030\n",
      "==============================================================================\n",
      "Omnibus:                      223.293   Durbin-Watson:                   1.951\n",
      "Prob(Omnibus):                  0.000   Jarque-Bera (JB):             1816.335\n",
      "Skew:                          -0.280   Prob(JB):                         0.00\n",
      "Kurtosis:                       7.908   Cond. No.                         220.\n",
      "==============================================================================\n",
      "\n",
      "Warnings:\n",
      "[1] Standard Errors assume that the covariance matrix of the errors is correctly specified.\n"
     ]
    }
   ],
   "source": [
    "x_vals = ff_data[['Mkt-RF','SMB','HML']]\n",
    "x_vals = sm.add_constant(x_vals)\n",
    "ols_20 = sm.OLS(exrets_20,x_vals, missing = 'drop').fit()\n",
    "print(ols_20.summary())"
   ]
  },
  {
   "cell_type": "code",
   "execution_count": 210,
   "metadata": {},
   "outputs": [
    {
     "name": "stdout",
     "output_type": "stream",
     "text": [
      "                            OLS Regression Results                            \n",
      "==============================================================================\n",
      "Dep. Variable:                     RF   R-squared:                       0.004\n",
      "Model:                            OLS   Adj. R-squared:                  0.002\n",
      "Method:                 Least Squares   F-statistic:                     2.154\n",
      "Date:                Tue, 14 Apr 2020   Prob (F-statistic):             0.0916\n",
      "Time:                        22:18:33   Log-Likelihood:                 8285.1\n",
      "No. Observations:                1827   AIC:                        -1.656e+04\n",
      "Df Residuals:                    1823   BIC:                        -1.654e+04\n",
      "Df Model:                           3                                         \n",
      "Covariance Type:            nonrobust                                         \n",
      "==============================================================================\n",
      "                 coef    std err          t      P>|t|      [0.025      0.975]\n",
      "------------------------------------------------------------------------------\n",
      "const       5.884e-05   6.09e-05      0.966      0.334   -6.07e-05       0.000\n",
      "Mkt-RF        -0.0040      0.007     -0.594      0.553      -0.017       0.009\n",
      "SMB           -0.0270      0.012     -2.166      0.030      -0.051      -0.003\n",
      "HML            0.0009      0.012      0.072      0.943      -0.024       0.025\n",
      "==============================================================================\n",
      "Omnibus:                      123.523   Durbin-Watson:                   2.002\n",
      "Prob(Omnibus):                  0.000   Jarque-Bera (JB):              560.022\n",
      "Skew:                          -0.091   Prob(JB):                    2.47e-122\n",
      "Kurtosis:                       5.706   Cond. No.                         220.\n",
      "==============================================================================\n",
      "\n",
      "Warnings:\n",
      "[1] Standard Errors assume that the covariance matrix of the errors is correctly specified.\n"
     ]
    }
   ],
   "source": [
    "x_vals = ff_data[['Mkt-RF','SMB','HML']]\n",
    "x_vals = sm.add_constant(x_vals)\n",
    "ols_30 = sm.OLS(exrets_30,x_vals, missing = 'drop').fit()\n",
    "print(ols_30.summary())"
   ]
  },
  {
   "cell_type": "code",
   "execution_count": 225,
   "metadata": {},
   "outputs": [
    {
     "name": "stdout",
     "output_type": "stream",
     "text": [
      "const        1.012218\n",
      "Mkt-RF     326.534370\n",
      "SMB      -2641.593272\n",
      "HML       1149.915511\n",
      "dtype: float64\n",
      "const     0.838167\n",
      "Mkt-RF    0.536989\n",
      "SMB       0.009712\n",
      "HML       0.248364\n",
      "dtype: float64\n"
     ]
    }
   ],
   "source": [
    "print(ols_5.params*252*100)\n",
    "print(ols_5.pvalues)"
   ]
  },
  {
   "cell_type": "code",
   "execution_count": 221,
   "metadata": {},
   "outputs": [
    {
     "name": "stdout",
     "output_type": "stream",
     "text": [
      "const       -2.572061\n",
      "Mkt-RF     392.999431\n",
      "SMB      -1214.788580\n",
      "HML       2017.970174\n",
      "dtype: float64\n",
      "const     0.412366\n",
      "Mkt-RF    0.256564\n",
      "SMB       0.057047\n",
      "HML       0.001652\n",
      "dtype: float64\n"
     ]
    }
   ],
   "source": [
    "print(ols_10.params*252*100)\n",
    "print(ols_10.pvalues)"
   ]
  },
  {
   "cell_type": "code",
   "execution_count": 222,
   "metadata": {},
   "outputs": [
    {
     "name": "stdout",
     "output_type": "stream",
     "text": [
      "const       1.346179\n",
      "Mkt-RF   -230.954725\n",
      "SMB      -673.992886\n",
      "HML        -4.525397\n",
      "dtype: float64\n",
      "const     0.481522\n",
      "Mkt-RF    0.269552\n",
      "SMB       0.085737\n",
      "HML       0.990807\n",
      "dtype: float64\n"
     ]
    }
   ],
   "source": [
    "print(ols_20.params*252*100)\n",
    "print(ols_20.pvalues)"
   ]
  },
  {
   "cell_type": "code",
   "execution_count": 223,
   "metadata": {},
   "outputs": [
    {
     "name": "stdout",
     "output_type": "stream",
     "text": [
      "const       1.482725\n",
      "Mkt-RF    -99.585892\n",
      "SMB      -679.694419\n",
      "HML        22.486002\n",
      "dtype: float64\n",
      "const     0.334303\n",
      "Mkt-RF    0.552638\n",
      "SMB       0.030430\n",
      "HML       0.942825\n",
      "dtype: float64\n"
     ]
    }
   ],
   "source": [
    "print(ols_30.params*252*100)\n",
    "print(ols_30.pvalues)"
   ]
  },
  {
   "cell_type": "code",
   "execution_count": null,
   "metadata": {},
   "outputs": [],
   "source": []
  },
  {
   "cell_type": "code",
   "execution_count": null,
   "metadata": {},
   "outputs": [],
   "source": []
  }
 ],
 "metadata": {
  "kernelspec": {
   "display_name": "Python 2",
   "language": "python",
   "name": "python2"
  },
  "language_info": {
   "codemirror_mode": {
    "name": "ipython",
    "version": 2
   },
   "file_extension": ".py",
   "mimetype": "text/x-python",
   "name": "python",
   "nbconvert_exporter": "python",
   "pygments_lexer": "ipython2",
   "version": "2.7.16"
  }
 },
 "nbformat": 4,
 "nbformat_minor": 2
}
