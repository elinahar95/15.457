{
 "cells": [
  {
   "cell_type": "markdown",
   "metadata": {},
   "source": [
    "# Advanced Analytics of Finance\n",
    "# Assignment 3\n",
    "# Elina Harutyunyan"
   ]
  },
  {
   "cell_type": "code",
   "execution_count": null,
   "metadata": {},
   "outputs": [],
   "source": [
    "import pandas as pd\n",
    "import numpy as np\n",
    "from matplotlib import pyplot as plt\n",
    "import statsmodels.api as sm\n",
    "import statistics as stat\n",
    "from scipy import stats\n",
    "import seaborn as sns\n",
    "import math as math"
   ]
  },
  {
   "cell_type": "code",
   "execution_count": 2,
   "metadata": {},
   "outputs": [],
   "source": [
    "pm = pd.read_csv(\"/Users/elinaharutyunyan/Desktop/MFin Spring 2020/Advanced Analytics of Finance/Assignment 3/PM.csv\")\n",
    "mktrf = pd.read_csv(\"/Users/elinaharutyunyan/Desktop/MFin Spring 2020/Advanced Analytics of Finance/mkt_rf.csv\")\n",
    "pm.Date = pd.to_datetime(pm.Date,format = '%Y%m',errors = 'ignore')\n",
    "mktrf.Date = pd.to_datetime(mktrf.Date, format = '%Y%m',errors = 'ignore')\n",
    "mktrf.set_index('Date',inplace = True)\n",
    "pm.set_index('Date',inplace = True)\n",
    "mktrf = mktrf/100\n",
    "pm = pm/100"
   ]
  },
  {
   "cell_type": "code",
   "execution_count": 3,
   "metadata": {},
   "outputs": [
    {
     "data": {
      "text/html": [
       "<div>\n",
       "<style scoped>\n",
       "    .dataframe tbody tr th:only-of-type {\n",
       "        vertical-align: middle;\n",
       "    }\n",
       "\n",
       "    .dataframe tbody tr th {\n",
       "        vertical-align: top;\n",
       "    }\n",
       "\n",
       "    .dataframe thead th {\n",
       "        text-align: right;\n",
       "    }\n",
       "</style>\n",
       "<table border=\"1\" class=\"dataframe\">\n",
       "  <thead>\n",
       "    <tr style=\"text-align: right;\">\n",
       "      <th></th>\n",
       "      <th>PM1</th>\n",
       "      <th>PM2</th>\n",
       "    </tr>\n",
       "    <tr>\n",
       "      <th>Date</th>\n",
       "      <th></th>\n",
       "      <th></th>\n",
       "    </tr>\n",
       "  </thead>\n",
       "  <tbody>\n",
       "    <tr>\n",
       "      <td>2005-01-01</td>\n",
       "      <td>-0.0632</td>\n",
       "      <td>0.0060</td>\n",
       "    </tr>\n",
       "    <tr>\n",
       "      <td>2005-02-01</td>\n",
       "      <td>0.0058</td>\n",
       "      <td>0.0232</td>\n",
       "    </tr>\n",
       "    <tr>\n",
       "      <td>2005-03-01</td>\n",
       "      <td>-0.0404</td>\n",
       "      <td>-0.0112</td>\n",
       "    </tr>\n",
       "    <tr>\n",
       "      <td>2005-04-01</td>\n",
       "      <td>-0.0627</td>\n",
       "      <td>-0.0192</td>\n",
       "    </tr>\n",
       "    <tr>\n",
       "      <td>2005-05-01</td>\n",
       "      <td>0.0779</td>\n",
       "      <td>0.0374</td>\n",
       "    </tr>\n",
       "  </tbody>\n",
       "</table>\n",
       "</div>"
      ],
      "text/plain": [
       "               PM1     PM2\n",
       "Date                      \n",
       "2005-01-01 -0.0632  0.0060\n",
       "2005-02-01  0.0058  0.0232\n",
       "2005-03-01 -0.0404 -0.0112\n",
       "2005-04-01 -0.0627 -0.0192\n",
       "2005-05-01  0.0779  0.0374"
      ]
     },
     "execution_count": 3,
     "metadata": {},
     "output_type": "execute_result"
    }
   ],
   "source": [
    "pm.head()"
   ]
  },
  {
   "cell_type": "code",
   "execution_count": 4,
   "metadata": {},
   "outputs": [
    {
     "data": {
      "text/html": [
       "<div>\n",
       "<style scoped>\n",
       "    .dataframe tbody tr th:only-of-type {\n",
       "        vertical-align: middle;\n",
       "    }\n",
       "\n",
       "    .dataframe tbody tr th {\n",
       "        vertical-align: top;\n",
       "    }\n",
       "\n",
       "    .dataframe thead th {\n",
       "        text-align: right;\n",
       "    }\n",
       "</style>\n",
       "<table border=\"1\" class=\"dataframe\">\n",
       "  <thead>\n",
       "    <tr style=\"text-align: right;\">\n",
       "      <th></th>\n",
       "      <th>Mkt-RF</th>\n",
       "      <th>SMB</th>\n",
       "      <th>HML</th>\n",
       "      <th>RF</th>\n",
       "    </tr>\n",
       "    <tr>\n",
       "      <th>Date</th>\n",
       "      <th></th>\n",
       "      <th></th>\n",
       "      <th></th>\n",
       "      <th></th>\n",
       "    </tr>\n",
       "  </thead>\n",
       "  <tbody>\n",
       "    <tr>\n",
       "      <td>1926-07-01</td>\n",
       "      <td>0.0296</td>\n",
       "      <td>-0.0230</td>\n",
       "      <td>-0.0287</td>\n",
       "      <td>0.0022</td>\n",
       "    </tr>\n",
       "    <tr>\n",
       "      <td>1926-08-01</td>\n",
       "      <td>0.0264</td>\n",
       "      <td>-0.0140</td>\n",
       "      <td>0.0419</td>\n",
       "      <td>0.0025</td>\n",
       "    </tr>\n",
       "    <tr>\n",
       "      <td>1926-09-01</td>\n",
       "      <td>0.0036</td>\n",
       "      <td>-0.0132</td>\n",
       "      <td>0.0001</td>\n",
       "      <td>0.0023</td>\n",
       "    </tr>\n",
       "    <tr>\n",
       "      <td>1926-10-01</td>\n",
       "      <td>-0.0324</td>\n",
       "      <td>0.0004</td>\n",
       "      <td>0.0051</td>\n",
       "      <td>0.0032</td>\n",
       "    </tr>\n",
       "    <tr>\n",
       "      <td>1926-11-01</td>\n",
       "      <td>0.0253</td>\n",
       "      <td>-0.0020</td>\n",
       "      <td>-0.0035</td>\n",
       "      <td>0.0031</td>\n",
       "    </tr>\n",
       "  </tbody>\n",
       "</table>\n",
       "</div>"
      ],
      "text/plain": [
       "            Mkt-RF     SMB     HML      RF\n",
       "Date                                      \n",
       "1926-07-01  0.0296 -0.0230 -0.0287  0.0022\n",
       "1926-08-01  0.0264 -0.0140  0.0419  0.0025\n",
       "1926-09-01  0.0036 -0.0132  0.0001  0.0023\n",
       "1926-10-01 -0.0324  0.0004  0.0051  0.0032\n",
       "1926-11-01  0.0253 -0.0020 -0.0035  0.0031"
      ]
     },
     "execution_count": 4,
     "metadata": {},
     "output_type": "execute_result"
    }
   ],
   "source": [
    "mktrf.head()"
   ]
  },
  {
   "cell_type": "code",
   "execution_count": 5,
   "metadata": {},
   "outputs": [],
   "source": [
    "mktrf = mktrf['2005-01-01':'2019-12-01']"
   ]
  },
  {
   "cell_type": "code",
   "execution_count": 6,
   "metadata": {},
   "outputs": [
    {
     "data": {
      "text/html": [
       "<div>\n",
       "<style scoped>\n",
       "    .dataframe tbody tr th:only-of-type {\n",
       "        vertical-align: middle;\n",
       "    }\n",
       "\n",
       "    .dataframe tbody tr th {\n",
       "        vertical-align: top;\n",
       "    }\n",
       "\n",
       "    .dataframe thead th {\n",
       "        text-align: right;\n",
       "    }\n",
       "</style>\n",
       "<table border=\"1\" class=\"dataframe\">\n",
       "  <thead>\n",
       "    <tr style=\"text-align: right;\">\n",
       "      <th></th>\n",
       "      <th>PM1</th>\n",
       "      <th>PM2</th>\n",
       "    </tr>\n",
       "    <tr>\n",
       "      <th>Date</th>\n",
       "      <th></th>\n",
       "      <th></th>\n",
       "    </tr>\n",
       "  </thead>\n",
       "  <tbody>\n",
       "    <tr>\n",
       "      <td>2019-08-01</td>\n",
       "      <td>-0.0131</td>\n",
       "      <td>-0.0468</td>\n",
       "    </tr>\n",
       "    <tr>\n",
       "      <td>2019-09-01</td>\n",
       "      <td>-0.0289</td>\n",
       "      <td>0.0512</td>\n",
       "    </tr>\n",
       "    <tr>\n",
       "      <td>2019-10-01</td>\n",
       "      <td>0.0388</td>\n",
       "      <td>0.0094</td>\n",
       "    </tr>\n",
       "    <tr>\n",
       "      <td>2019-11-01</td>\n",
       "      <td>0.0834</td>\n",
       "      <td>0.0351</td>\n",
       "    </tr>\n",
       "    <tr>\n",
       "      <td>2019-12-01</td>\n",
       "      <td>0.0233</td>\n",
       "      <td>0.0442</td>\n",
       "    </tr>\n",
       "  </tbody>\n",
       "</table>\n",
       "</div>"
      ],
      "text/plain": [
       "               PM1     PM2\n",
       "Date                      \n",
       "2019-08-01 -0.0131 -0.0468\n",
       "2019-09-01 -0.0289  0.0512\n",
       "2019-10-01  0.0388  0.0094\n",
       "2019-11-01  0.0834  0.0351\n",
       "2019-12-01  0.0233  0.0442"
      ]
     },
     "execution_count": 6,
     "metadata": {},
     "output_type": "execute_result"
    }
   ],
   "source": [
    "pm.tail()"
   ]
  },
  {
   "cell_type": "code",
   "execution_count": 7,
   "metadata": {},
   "outputs": [],
   "source": [
    "RF = mktrf.RF['2005-01-01':'2019-12-01']"
   ]
  },
  {
   "cell_type": "code",
   "execution_count": 8,
   "metadata": {},
   "outputs": [
    {
     "data": {
      "text/plain": [
       "Date\n",
       "2005-01-01    0.0016\n",
       "2005-02-01    0.0016\n",
       "2005-03-01    0.0021\n",
       "2005-04-01    0.0021\n",
       "2005-05-01    0.0024\n",
       "               ...  \n",
       "2019-08-01    0.0016\n",
       "2019-09-01    0.0018\n",
       "2019-10-01    0.0015\n",
       "2019-11-01    0.0012\n",
       "2019-12-01    0.0014\n",
       "Name: RF, Length: 180, dtype: float64"
      ]
     },
     "execution_count": 8,
     "metadata": {},
     "output_type": "execute_result"
    }
   ],
   "source": [
    "RF"
   ]
  },
  {
   "cell_type": "code",
   "execution_count": 9,
   "metadata": {},
   "outputs": [],
   "source": [
    "pm['PM1_ex'] = pm.PM1 - RF\n",
    "pm['PM2_ex'] = pm.PM2 - RF"
   ]
  },
  {
   "cell_type": "code",
   "execution_count": 10,
   "metadata": {},
   "outputs": [
    {
     "data": {
      "text/html": [
       "<div>\n",
       "<style scoped>\n",
       "    .dataframe tbody tr th:only-of-type {\n",
       "        vertical-align: middle;\n",
       "    }\n",
       "\n",
       "    .dataframe tbody tr th {\n",
       "        vertical-align: top;\n",
       "    }\n",
       "\n",
       "    .dataframe thead th {\n",
       "        text-align: right;\n",
       "    }\n",
       "</style>\n",
       "<table border=\"1\" class=\"dataframe\">\n",
       "  <thead>\n",
       "    <tr style=\"text-align: right;\">\n",
       "      <th></th>\n",
       "      <th>PM1</th>\n",
       "      <th>PM2</th>\n",
       "      <th>PM1_ex</th>\n",
       "      <th>PM2_ex</th>\n",
       "    </tr>\n",
       "    <tr>\n",
       "      <th>Date</th>\n",
       "      <th></th>\n",
       "      <th></th>\n",
       "      <th></th>\n",
       "      <th></th>\n",
       "    </tr>\n",
       "  </thead>\n",
       "  <tbody>\n",
       "    <tr>\n",
       "      <td>2005-01-01</td>\n",
       "      <td>-0.0632</td>\n",
       "      <td>0.0060</td>\n",
       "      <td>-0.0648</td>\n",
       "      <td>0.0044</td>\n",
       "    </tr>\n",
       "    <tr>\n",
       "      <td>2005-02-01</td>\n",
       "      <td>0.0058</td>\n",
       "      <td>0.0232</td>\n",
       "      <td>0.0042</td>\n",
       "      <td>0.0216</td>\n",
       "    </tr>\n",
       "    <tr>\n",
       "      <td>2005-03-01</td>\n",
       "      <td>-0.0404</td>\n",
       "      <td>-0.0112</td>\n",
       "      <td>-0.0425</td>\n",
       "      <td>-0.0133</td>\n",
       "    </tr>\n",
       "    <tr>\n",
       "      <td>2005-04-01</td>\n",
       "      <td>-0.0627</td>\n",
       "      <td>-0.0192</td>\n",
       "      <td>-0.0648</td>\n",
       "      <td>-0.0213</td>\n",
       "    </tr>\n",
       "    <tr>\n",
       "      <td>2005-05-01</td>\n",
       "      <td>0.0779</td>\n",
       "      <td>0.0374</td>\n",
       "      <td>0.0755</td>\n",
       "      <td>0.0350</td>\n",
       "    </tr>\n",
       "    <tr>\n",
       "      <td>...</td>\n",
       "      <td>...</td>\n",
       "      <td>...</td>\n",
       "      <td>...</td>\n",
       "      <td>...</td>\n",
       "    </tr>\n",
       "    <tr>\n",
       "      <td>2019-08-01</td>\n",
       "      <td>-0.0131</td>\n",
       "      <td>-0.0468</td>\n",
       "      <td>-0.0147</td>\n",
       "      <td>-0.0484</td>\n",
       "    </tr>\n",
       "    <tr>\n",
       "      <td>2019-09-01</td>\n",
       "      <td>-0.0289</td>\n",
       "      <td>0.0512</td>\n",
       "      <td>-0.0307</td>\n",
       "      <td>0.0494</td>\n",
       "    </tr>\n",
       "    <tr>\n",
       "      <td>2019-10-01</td>\n",
       "      <td>0.0388</td>\n",
       "      <td>0.0094</td>\n",
       "      <td>0.0373</td>\n",
       "      <td>0.0079</td>\n",
       "    </tr>\n",
       "    <tr>\n",
       "      <td>2019-11-01</td>\n",
       "      <td>0.0834</td>\n",
       "      <td>0.0351</td>\n",
       "      <td>0.0822</td>\n",
       "      <td>0.0339</td>\n",
       "    </tr>\n",
       "    <tr>\n",
       "      <td>2019-12-01</td>\n",
       "      <td>0.0233</td>\n",
       "      <td>0.0442</td>\n",
       "      <td>0.0219</td>\n",
       "      <td>0.0428</td>\n",
       "    </tr>\n",
       "  </tbody>\n",
       "</table>\n",
       "<p>180 rows × 4 columns</p>\n",
       "</div>"
      ],
      "text/plain": [
       "               PM1     PM2  PM1_ex  PM2_ex\n",
       "Date                                      \n",
       "2005-01-01 -0.0632  0.0060 -0.0648  0.0044\n",
       "2005-02-01  0.0058  0.0232  0.0042  0.0216\n",
       "2005-03-01 -0.0404 -0.0112 -0.0425 -0.0133\n",
       "2005-04-01 -0.0627 -0.0192 -0.0648 -0.0213\n",
       "2005-05-01  0.0779  0.0374  0.0755  0.0350\n",
       "...            ...     ...     ...     ...\n",
       "2019-08-01 -0.0131 -0.0468 -0.0147 -0.0484\n",
       "2019-09-01 -0.0289  0.0512 -0.0307  0.0494\n",
       "2019-10-01  0.0388  0.0094  0.0373  0.0079\n",
       "2019-11-01  0.0834  0.0351  0.0822  0.0339\n",
       "2019-12-01  0.0233  0.0442  0.0219  0.0428\n",
       "\n",
       "[180 rows x 4 columns]"
      ]
     },
     "execution_count": 10,
     "metadata": {},
     "output_type": "execute_result"
    }
   ],
   "source": [
    "pm"
   ]
  },
  {
   "cell_type": "markdown",
   "metadata": {},
   "source": [
    "## Part A"
   ]
  },
  {
   "cell_type": "code",
   "execution_count": 11,
   "metadata": {},
   "outputs": [
    {
     "data": {
      "image/png": "[encoded data removed]",
      "text/plain": [
       "<Figure size 576x432 with 1 Axes>"
      ]
     },
     "metadata": {
      "needs_background": "light"
     },
     "output_type": "display_data"
    }
   ],
   "source": [
    "plt.figure(figsize=(8,6))\n",
    "plt.scatter(x = pm['PM1_ex'], y = mktrf['Mkt-RF'])\n",
    "plt.xlabel(\"Market Excess Return\")\n",
    "plt.ylabel(\"PM1 Excess Return\")\n",
    "plt.title(\"1st Manager's Monthly Excess Return Agains the Market\")\n",
    "plt.show()"
   ]
  },
  {
   "cell_type": "code",
   "execution_count": 12,
   "metadata": {},
   "outputs": [
    {
     "data": {
      "image/png": "[encoded data removed]",
      "text/plain": [
       "<Figure size 576x432 with 1 Axes>"
      ]
     },
     "metadata": {
      "needs_background": "light"
     },
     "output_type": "display_data"
    }
   ],
   "source": [
    "plt.figure(figsize=(8,6))\n",
    "plt.scatter(x = pm['PM2_ex'], y = mktrf['Mkt-RF'])\n",
    "plt.xlabel(\"Market Excess Return\")\n",
    "plt.ylabel(\"PM1 Excess Return\")\n",
    "plt.title(\"2nd Manager's Monthly Excess Return Agains the Market\")\n",
    "plt.show()"
   ]
  },
  {
   "cell_type": "code",
   "execution_count": 13,
   "metadata": {},
   "outputs": [
    {
     "data": {
      "text/plain": [
       "<matplotlib.axes._subplots.AxesSubplot at 0x1c1d70b990>"
      ]
     },
     "execution_count": 13,
     "metadata": {},
     "output_type": "execute_result"
    },
    {
     "data": {
      "image/png": "[encoded data removed]",
      "text/plain": [
       "<Figure size 432x288 with 1 Axes>"
      ]
     },
     "metadata": {
      "needs_background": "light"
     },
     "output_type": "display_data"
    }
   ],
   "source": [
    "pm.boxplot(column=['PM1_ex','PM2_ex'],grid=False, rot=45, fontsize=15)"
   ]
  },
  {
   "cell_type": "code",
   "execution_count": 32,
   "metadata": {},
   "outputs": [
    {
     "name": "stdout",
     "output_type": "stream",
     "text": [
      "PM1 Annualized Mean Return:  12.309\n",
      "PM2 Annualized Mean Return:  8.553\n",
      "PM1 Annualized Standard Deviation of Excess Returns:  21.088\n",
      "PM2 Annualized Standard Deviation of Excess Returns:  15.398\n",
      "PM1 Sharpe Ratio:  0.584\n",
      "PM2 Sharpe Ratio:  0.555\n"
     ]
    }
   ],
   "source": [
    "#mean\n",
    "print(\"PM1 Annualized Mean Return: \",round(pm.PM1_ex.mean()*1200,3))\n",
    "print(\"PM2 Annualized Mean Return: \",round(pm.PM2_ex.mean()*1200,3))\n",
    "\n",
    "#standard deviation\n",
    "print(\"PM1 Annualized Standard Deviation of Excess Returns: \",round(pm.PM1_ex.std()*math.sqrt(12)*100,3))\n",
    "print(\"PM2 Annualized Standard Deviation of Excess Returns: \",round(pm.PM2_ex.std()*math.sqrt(12)*100,3))\n",
    "\n",
    "#Sharpe Ratio\n",
    "print(\"PM1 Sharpe Ratio: \",round(pm.PM1_ex.mean()/pm.PM1_ex.std()*math.sqrt(12),3))\n",
    "print(\"PM2 Sharpe Ratio: \",round(pm.PM2_ex.mean()/pm.PM2_ex.std()*math.sqrt(12),3))"
   ]
  },
  {
   "cell_type": "code",
   "execution_count": 15,
   "metadata": {},
   "outputs": [],
   "source": [
    "mkt_exret = mktrf[\"Mkt-RF\"]"
   ]
  },
  {
   "cell_type": "code",
   "execution_count": 33,
   "metadata": {},
   "outputs": [
    {
     "name": "stdout",
     "output_type": "stream",
     "text": [
      "PM1 Information Ratio:  0.377\n",
      "PM2 Information Ratio:  -0.006\n"
     ]
    }
   ],
   "source": [
    "#Information ratio\n",
    "IR_PM1 = (pm.PM1_ex.mean()-mkt_exret.mean())/((pm.PM1_ex-mkt_exret).std())\n",
    "IR_PM2 = (pm.PM2_ex.mean()-mkt_exret.mean())/((pm.PM2_ex-mkt_exret).std())\n",
    "print(\"PM1 Information Ratio: \",round(IR_PM1*math.sqrt(12),3))\n",
    "print(\"PM2 Information Ratio: \",round(IR_PM2*math.sqrt(12),3))"
   ]
  },
  {
   "cell_type": "code",
   "execution_count": 17,
   "metadata": {},
   "outputs": [],
   "source": [
    "#calculating cumulative returns for both indexes\n",
    "cumrets_pm1 = np.cumprod(pm.PM1_ex+1)\n",
    "cumrets_pm2 = np.cumprod(pm.PM2_ex+1)"
   ]
  },
  {
   "cell_type": "code",
   "execution_count": 18,
   "metadata": {},
   "outputs": [],
   "source": [
    "#maximum drawdown\n",
    "#PM1\n",
    "max_val = 0\n",
    "drawdown_pm1 = []\n",
    "for i in range(0,cumrets_pm1.shape[0]):\n",
    "    if cumrets_pm1[i] > max_val:\n",
    "        max_val = cumrets_pm1[i]\n",
    "    drawdown_pm1.append((max_val - cumrets_pm1[i])/max_val)"
   ]
  },
  {
   "cell_type": "code",
   "execution_count": 19,
   "metadata": {},
   "outputs": [],
   "source": [
    "drawdown_pm1 = pd.DataFrame(drawdown_pm1).set_index(cumrets_pm1.index)"
   ]
  },
  {
   "cell_type": "code",
   "execution_count": 34,
   "metadata": {},
   "outputs": [
    {
     "data": {
      "image/png": "[encoded data removed]",
      "text/plain": [
       "<Figure size 576x432 with 1 Axes>"
      ]
     },
     "metadata": {
      "needs_background": "light"
     },
     "output_type": "display_data"
    },
    {
     "name": "stdout",
     "output_type": "stream",
     "text": [
      "Max Drawdown of PM1 is:  53.489\n"
     ]
    }
   ],
   "source": [
    "plt.figure(figsize=(8,6))\n",
    "plt.plot(drawdown_pm1*100)\n",
    "plt.xlabel(\"Year\")\n",
    "plt.ylabel(\"%\")\n",
    "plt.title(\"PM1\")\n",
    "plt.show()\n",
    "\n",
    "print(\"Max Drawdown of PM1 is: \",round(drawdown_pm1[0].max()*100,3))"
   ]
  },
  {
   "cell_type": "code",
   "execution_count": 35,
   "metadata": {},
   "outputs": [
    {
     "data": {
      "image/png": "[encoded data removed]",
      "text/plain": [
       "<Figure size 576x432 with 1 Axes>"
      ]
     },
     "metadata": {
      "needs_background": "light"
     },
     "output_type": "display_data"
    },
    {
     "name": "stdout",
     "output_type": "stream",
     "text": [
      "Max Drawdown of PM2 is:  56.322\n"
     ]
    }
   ],
   "source": [
    "#max drawdown PM2\n",
    "max_val = 0\n",
    "drawdown_pm2 = []\n",
    "for i in range(0,cumrets_pm2.shape[0]):\n",
    "    if cumrets_pm2[i] > max_val:\n",
    "        max_val = cumrets_pm2[i]\n",
    "    drawdown_pm2.append((max_val - cumrets_pm2[i])/max_val)\n",
    "drawdown_pm2 = pd.DataFrame(drawdown_pm2).set_index(cumrets_pm2.index)\n",
    "plt.figure(figsize=(8,6))\n",
    "plt.plot(drawdown_pm2*100)\n",
    "plt.xlabel(\"Year\")\n",
    "plt.ylabel(\"%\")\n",
    "plt.title(\"PM2\")\n",
    "plt.show()\n",
    "\n",
    "print(\"Max Drawdown of PM2 is: \",round(drawdown_pm2[0].max()*100,3))"
   ]
  },
  {
   "cell_type": "code",
   "execution_count": 22,
   "metadata": {},
   "outputs": [
    {
     "data": {
      "text/html": [
       "<div>\n",
       "<style scoped>\n",
       "    .dataframe tbody tr th:only-of-type {\n",
       "        vertical-align: middle;\n",
       "    }\n",
       "\n",
       "    .dataframe tbody tr th {\n",
       "        vertical-align: top;\n",
       "    }\n",
       "\n",
       "    .dataframe thead th {\n",
       "        text-align: right;\n",
       "    }\n",
       "</style>\n",
       "<table border=\"1\" class=\"dataframe\">\n",
       "  <thead>\n",
       "    <tr style=\"text-align: right;\">\n",
       "      <th></th>\n",
       "      <th>Mkt-RF</th>\n",
       "      <th>SMB</th>\n",
       "      <th>HML</th>\n",
       "      <th>RF</th>\n",
       "    </tr>\n",
       "    <tr>\n",
       "      <th>Date</th>\n",
       "      <th></th>\n",
       "      <th></th>\n",
       "      <th></th>\n",
       "      <th></th>\n",
       "    </tr>\n",
       "  </thead>\n",
       "  <tbody>\n",
       "    <tr>\n",
       "      <td>2005-01-01</td>\n",
       "      <td>-0.0276</td>\n",
       "      <td>-0.0151</td>\n",
       "      <td>0.0196</td>\n",
       "      <td>0.0016</td>\n",
       "    </tr>\n",
       "    <tr>\n",
       "      <td>2005-02-01</td>\n",
       "      <td>0.0189</td>\n",
       "      <td>-0.0051</td>\n",
       "      <td>0.0164</td>\n",
       "      <td>0.0016</td>\n",
       "    </tr>\n",
       "    <tr>\n",
       "      <td>2005-03-01</td>\n",
       "      <td>-0.0197</td>\n",
       "      <td>-0.0138</td>\n",
       "      <td>0.0159</td>\n",
       "      <td>0.0021</td>\n",
       "    </tr>\n",
       "    <tr>\n",
       "      <td>2005-04-01</td>\n",
       "      <td>-0.0261</td>\n",
       "      <td>-0.0398</td>\n",
       "      <td>-0.0035</td>\n",
       "      <td>0.0021</td>\n",
       "    </tr>\n",
       "    <tr>\n",
       "      <td>2005-05-01</td>\n",
       "      <td>0.0365</td>\n",
       "      <td>0.0288</td>\n",
       "      <td>-0.0081</td>\n",
       "      <td>0.0024</td>\n",
       "    </tr>\n",
       "    <tr>\n",
       "      <td>...</td>\n",
       "      <td>...</td>\n",
       "      <td>...</td>\n",
       "      <td>...</td>\n",
       "      <td>...</td>\n",
       "    </tr>\n",
       "    <tr>\n",
       "      <td>2019-08-01</td>\n",
       "      <td>-0.0258</td>\n",
       "      <td>-0.0241</td>\n",
       "      <td>-0.0499</td>\n",
       "      <td>0.0016</td>\n",
       "    </tr>\n",
       "    <tr>\n",
       "      <td>2019-09-01</td>\n",
       "      <td>0.0144</td>\n",
       "      <td>-0.0090</td>\n",
       "      <td>0.0671</td>\n",
       "      <td>0.0018</td>\n",
       "    </tr>\n",
       "    <tr>\n",
       "      <td>2019-10-01</td>\n",
       "      <td>0.0206</td>\n",
       "      <td>0.0025</td>\n",
       "      <td>-0.0207</td>\n",
       "      <td>0.0015</td>\n",
       "    </tr>\n",
       "    <tr>\n",
       "      <td>2019-11-01</td>\n",
       "      <td>0.0387</td>\n",
       "      <td>0.0087</td>\n",
       "      <td>-0.0186</td>\n",
       "      <td>0.0012</td>\n",
       "    </tr>\n",
       "    <tr>\n",
       "      <td>2019-12-01</td>\n",
       "      <td>0.0277</td>\n",
       "      <td>0.0068</td>\n",
       "      <td>0.0183</td>\n",
       "      <td>0.0014</td>\n",
       "    </tr>\n",
       "  </tbody>\n",
       "</table>\n",
       "<p>180 rows × 4 columns</p>\n",
       "</div>"
      ],
      "text/plain": [
       "            Mkt-RF     SMB     HML      RF\n",
       "Date                                      \n",
       "2005-01-01 -0.0276 -0.0151  0.0196  0.0016\n",
       "2005-02-01  0.0189 -0.0051  0.0164  0.0016\n",
       "2005-03-01 -0.0197 -0.0138  0.0159  0.0021\n",
       "2005-04-01 -0.0261 -0.0398 -0.0035  0.0021\n",
       "2005-05-01  0.0365  0.0288 -0.0081  0.0024\n",
       "...            ...     ...     ...     ...\n",
       "2019-08-01 -0.0258 -0.0241 -0.0499  0.0016\n",
       "2019-09-01  0.0144 -0.0090  0.0671  0.0018\n",
       "2019-10-01  0.0206  0.0025 -0.0207  0.0015\n",
       "2019-11-01  0.0387  0.0087 -0.0186  0.0012\n",
       "2019-12-01  0.0277  0.0068  0.0183  0.0014\n",
       "\n",
       "[180 rows x 4 columns]"
      ]
     },
     "execution_count": 22,
     "metadata": {},
     "output_type": "execute_result"
    }
   ],
   "source": [
    "mktrf"
   ]
  },
  {
   "cell_type": "code",
   "execution_count": 23,
   "metadata": {},
   "outputs": [
    {
     "data": {
      "text/plain": [
       "Date\n",
       "2005-01-01   -0.0648\n",
       "2005-02-01    0.0042\n",
       "2005-03-01   -0.0425\n",
       "2005-04-01   -0.0648\n",
       "2005-05-01    0.0755\n",
       "               ...  \n",
       "2019-08-01   -0.0147\n",
       "2019-09-01   -0.0307\n",
       "2019-10-01    0.0373\n",
       "2019-11-01    0.0822\n",
       "2019-12-01    0.0219\n",
       "Name: PM1_ex, Length: 180, dtype: float64"
      ]
     },
     "execution_count": 23,
     "metadata": {},
     "output_type": "execute_result"
    }
   ],
   "source": [
    "pm.PM1_ex"
   ]
  },
  {
   "cell_type": "markdown",
   "metadata": {},
   "source": [
    "## Part B"
   ]
  },
  {
   "cell_type": "code",
   "execution_count": 110,
   "metadata": {},
   "outputs": [
    {
     "name": "stdout",
     "output_type": "stream",
     "text": [
      "                            OLS Regression Results                            \n",
      "==============================================================================\n",
      "Dep. Variable:                 PM1_ex   R-squared:                       0.992\n",
      "Model:                            OLS   Adj. R-squared:                  0.992\n",
      "Method:                 Least Squares   F-statistic:                     6983.\n",
      "Date:                Sun, 15 Mar 2020   Prob (F-statistic):          1.11e-182\n",
      "Time:                        18:13:24   Log-Likelihood:                 679.79\n",
      "No. Observations:                 180   AIC:                            -1352.\n",
      "Df Residuals:                     176   BIC:                            -1339.\n",
      "Df Model:                           3                                         \n",
      "Covariance Type:            nonrobust                                         \n",
      "==============================================================================\n",
      "                 coef    std err          t      P>|t|      [0.025      0.975]\n",
      "------------------------------------------------------------------------------\n",
      "const      -7.841e-06      0.000     -0.018      0.985      -0.001       0.001\n",
      "Mkt-RF         1.2961      0.011    115.753      0.000       1.274       1.318\n",
      "SMB            0.8003      0.020     40.441      0.000       0.761       0.839\n",
      "HML           -0.6925      0.017    -41.443      0.000      -0.725      -0.660\n",
      "==============================================================================\n",
      "Omnibus:                        0.320   Durbin-Watson:                   1.986\n",
      "Prob(Omnibus):                  0.852   Jarque-Bera (JB):                0.180\n",
      "Skew:                          -0.074   Prob(JB):                        0.914\n",
      "Kurtosis:                       3.044   Cond. No.                         48.6\n",
      "==============================================================================\n",
      "\n",
      "Warnings:\n",
      "[1] Standard Errors assume that the covariance matrix of the errors is correctly specified.\n"
     ]
    },
    {
     "name": "stderr",
     "output_type": "stream",
     "text": [
      "/Users/elinaharutyunyan/opt/anaconda3/lib/python3.7/site-packages/numpy/core/fromnumeric.py:2495: FutureWarning: Method .ptp is deprecated and will be removed in a future version. Use numpy.ptp instead.\n",
      "  return ptp(axis=axis, out=out, **kwargs)\n"
     ]
    }
   ],
   "source": [
    "x_vals = mktrf[['Mkt-RF','SMB','HML']]\n",
    "x_vals = sm.add_constant(x_vals)\n",
    "pm1_ols = sm.OLS(pm.PM1_ex,x_vals).fit()\n",
    "print(pm1_ols.summary())"
   ]
  },
  {
   "cell_type": "code",
   "execution_count": 111,
   "metadata": {},
   "outputs": [
    {
     "name": "stdout",
     "output_type": "stream",
     "text": [
      "                            OLS Regression Results                            \n",
      "==============================================================================\n",
      "Dep. Variable:                 PM2_ex   R-squared:                       0.963\n",
      "Model:                            OLS   Adj. R-squared:                  0.962\n",
      "Method:                 Least Squares   F-statistic:                     1511.\n",
      "Date:                Sun, 15 Mar 2020   Prob (F-statistic):          2.59e-125\n",
      "Time:                        18:13:42   Log-Likelihood:                 601.29\n",
      "No. Observations:                 180   AIC:                            -1195.\n",
      "Df Residuals:                     176   BIC:                            -1182.\n",
      "Df Model:                           3                                         \n",
      "Covariance Type:            nonrobust                                         \n",
      "==============================================================================\n",
      "                 coef    std err          t      P>|t|      [0.025      0.975]\n",
      "------------------------------------------------------------------------------\n",
      "const          0.0010      0.001      1.468      0.144      -0.000       0.002\n",
      "Mkt-RF         0.9518      0.017     54.962      0.000       0.918       0.986\n",
      "SMB           -0.1182      0.031     -3.861      0.000      -0.179      -0.058\n",
      "HML            0.5333      0.026     20.634      0.000       0.482       0.584\n",
      "==============================================================================\n",
      "Omnibus:                        0.180   Durbin-Watson:                   2.008\n",
      "Prob(Omnibus):                  0.914   Jarque-Bera (JB):                0.029\n",
      "Skew:                          -0.006   Prob(JB):                        0.986\n",
      "Kurtosis:                       3.061   Cond. No.                         48.6\n",
      "==============================================================================\n",
      "\n",
      "Warnings:\n",
      "[1] Standard Errors assume that the covariance matrix of the errors is correctly specified.\n"
     ]
    }
   ],
   "source": [
    "x_vals = mktrf[['Mkt-RF','SMB','HML']]\n",
    "pm2_ols = sm.OLS(pm.PM2_ex,sm.add_constant(x_vals)).fit()\n",
    "print(pm2_ols.summary())"
   ]
  },
  {
   "cell_type": "code",
   "execution_count": 39,
   "metadata": {},
   "outputs": [
    {
     "data": {
      "text/html": [
       "<div>\n",
       "<style scoped>\n",
       "    .dataframe tbody tr th:only-of-type {\n",
       "        vertical-align: middle;\n",
       "    }\n",
       "\n",
       "    .dataframe tbody tr th {\n",
       "        vertical-align: top;\n",
       "    }\n",
       "\n",
       "    .dataframe thead th {\n",
       "        text-align: right;\n",
       "    }\n",
       "</style>\n",
       "<table border=\"1\" class=\"dataframe\">\n",
       "  <thead>\n",
       "    <tr style=\"text-align: right;\">\n",
       "      <th></th>\n",
       "      <th>PM1</th>\n",
       "      <th>PM2</th>\n",
       "      <th>PM1_ex</th>\n",
       "      <th>PM2_ex</th>\n",
       "    </tr>\n",
       "    <tr>\n",
       "      <th>Date</th>\n",
       "      <th></th>\n",
       "      <th></th>\n",
       "      <th></th>\n",
       "      <th></th>\n",
       "    </tr>\n",
       "  </thead>\n",
       "  <tbody>\n",
       "    <tr>\n",
       "      <td>2005-01-01</td>\n",
       "      <td>-0.0632</td>\n",
       "      <td>0.0060</td>\n",
       "      <td>-0.0648</td>\n",
       "      <td>0.0044</td>\n",
       "    </tr>\n",
       "    <tr>\n",
       "      <td>2005-02-01</td>\n",
       "      <td>0.0058</td>\n",
       "      <td>0.0232</td>\n",
       "      <td>0.0042</td>\n",
       "      <td>0.0216</td>\n",
       "    </tr>\n",
       "    <tr>\n",
       "      <td>2005-03-01</td>\n",
       "      <td>-0.0404</td>\n",
       "      <td>-0.0112</td>\n",
       "      <td>-0.0425</td>\n",
       "      <td>-0.0133</td>\n",
       "    </tr>\n",
       "    <tr>\n",
       "      <td>2005-04-01</td>\n",
       "      <td>-0.0627</td>\n",
       "      <td>-0.0192</td>\n",
       "      <td>-0.0648</td>\n",
       "      <td>-0.0213</td>\n",
       "    </tr>\n",
       "    <tr>\n",
       "      <td>2005-05-01</td>\n",
       "      <td>0.0779</td>\n",
       "      <td>0.0374</td>\n",
       "      <td>0.0755</td>\n",
       "      <td>0.0350</td>\n",
       "    </tr>\n",
       "    <tr>\n",
       "      <td>...</td>\n",
       "      <td>...</td>\n",
       "      <td>...</td>\n",
       "      <td>...</td>\n",
       "      <td>...</td>\n",
       "    </tr>\n",
       "    <tr>\n",
       "      <td>2019-08-01</td>\n",
       "      <td>-0.0131</td>\n",
       "      <td>-0.0468</td>\n",
       "      <td>-0.0147</td>\n",
       "      <td>-0.0484</td>\n",
       "    </tr>\n",
       "    <tr>\n",
       "      <td>2019-09-01</td>\n",
       "      <td>-0.0289</td>\n",
       "      <td>0.0512</td>\n",
       "      <td>-0.0307</td>\n",
       "      <td>0.0494</td>\n",
       "    </tr>\n",
       "    <tr>\n",
       "      <td>2019-10-01</td>\n",
       "      <td>0.0388</td>\n",
       "      <td>0.0094</td>\n",
       "      <td>0.0373</td>\n",
       "      <td>0.0079</td>\n",
       "    </tr>\n",
       "    <tr>\n",
       "      <td>2019-11-01</td>\n",
       "      <td>0.0834</td>\n",
       "      <td>0.0351</td>\n",
       "      <td>0.0822</td>\n",
       "      <td>0.0339</td>\n",
       "    </tr>\n",
       "    <tr>\n",
       "      <td>2019-12-01</td>\n",
       "      <td>0.0233</td>\n",
       "      <td>0.0442</td>\n",
       "      <td>0.0219</td>\n",
       "      <td>0.0428</td>\n",
       "    </tr>\n",
       "  </tbody>\n",
       "</table>\n",
       "<p>180 rows × 4 columns</p>\n",
       "</div>"
      ],
      "text/plain": [
       "               PM1     PM2  PM1_ex  PM2_ex\n",
       "Date                                      \n",
       "2005-01-01 -0.0632  0.0060 -0.0648  0.0044\n",
       "2005-02-01  0.0058  0.0232  0.0042  0.0216\n",
       "2005-03-01 -0.0404 -0.0112 -0.0425 -0.0133\n",
       "2005-04-01 -0.0627 -0.0192 -0.0648 -0.0213\n",
       "2005-05-01  0.0779  0.0374  0.0755  0.0350\n",
       "...            ...     ...     ...     ...\n",
       "2019-08-01 -0.0131 -0.0468 -0.0147 -0.0484\n",
       "2019-09-01 -0.0289  0.0512 -0.0307  0.0494\n",
       "2019-10-01  0.0388  0.0094  0.0373  0.0079\n",
       "2019-11-01  0.0834  0.0351  0.0822  0.0339\n",
       "2019-12-01  0.0233  0.0442  0.0219  0.0428\n",
       "\n",
       "[180 rows x 4 columns]"
      ]
     },
     "execution_count": 39,
     "metadata": {},
     "output_type": "execute_result"
    }
   ],
   "source": [
    "pm"
   ]
  },
  {
   "cell_type": "markdown",
   "metadata": {},
   "source": [
    "## Part C"
   ]
  },
  {
   "cell_type": "code",
   "execution_count": 113,
   "metadata": {},
   "outputs": [
    {
     "name": "stdout",
     "output_type": "stream",
     "text": [
      "0.5572065615951458\n"
     ]
    }
   ],
   "source": [
    "#Differences in means\n",
    "T = pm.shape[0]\n",
    "mu_hat1 = np.mean(pm[\"PM1_ex\"])\n",
    "mu_hat2 = np.mean(pm[\"PM2_ex\"])\n",
    "\n",
    "var1 = np.var(pm[\"PM1_ex\"])*(T/(T-1))\n",
    "var2 = np.var(pm[\"PM2_ex\"])*(T/(T-1))\n",
    "denominator = ((var1/T) + (var2/T))**0.5\n",
    "\n",
    "t = (mu_hat1-mu_hat2)/denominator\n",
    "print(t)\n",
    "#Do Not Reject Null Hypothesis\""
   ]
  },
  {
   "cell_type": "code",
   "execution_count": 98,
   "metadata": {},
   "outputs": [],
   "source": [
    "#Differences in Sharpe Ratios\n",
    "sigma_hat1 = np.std(pm[\"PM1_ex\"])\n",
    "sigma_hat2 = np.std(pm[\"PM2_ex\"])\n",
    "\n",
    "A_hat = np.array([1/sigma_hat1, -mu_hat1/(sigma_hat1)**2, -1/sigma_hat2, mu_hat2/(sigma_hat2)**2]).reshape(1,4)"
   ]
  },
  {
   "cell_type": "code",
   "execution_count": 99,
   "metadata": {},
   "outputs": [
    {
     "name": "stdout",
     "output_type": "stream",
     "text": [
      "0.06070762166643544\n",
      "0.044325832486455156\n",
      "[[ 16.47239626  -2.78334377 -22.56020798   3.62749229]]\n"
     ]
    }
   ],
   "source": [
    "print(sigma_hat1)\n",
    "print(sigma_hat2)\n",
    "print(A_hat)"
   ]
  },
  {
   "cell_type": "code",
   "execution_count": 100,
   "metadata": {},
   "outputs": [],
   "source": [
    "#f <- rbind(x-mu_hat, (x-mu_hat)^2-sigma_hat^2)\n",
    "f1 = pd.DataFrame(pm[\"PM1_ex\"] - mu_hat1).T\n",
    "f2 = pd.DataFrame((pm[\"PM1_ex\"] - mu_hat1)**2 - (sigma_hat1)**2).T\n",
    "f3 = pd.DataFrame(pm[\"PM2_ex\"] - mu_hat2).T\n",
    "f4 = pd.DataFrame((pm[\"PM2_ex\"] - mu_hat2)**2 - (sigma_hat2)**2).T\n",
    "f = pd.concat([f1,f2,f3,f4])"
   ]
  },
  {
   "cell_type": "code",
   "execution_count": 103,
   "metadata": {},
   "outputs": [],
   "source": [
    "S = f@f.T\n",
    "S_hat = np.array([S.values]).reshape(4,4)\n",
    "d_hat = np.array([[-1,0,0,0],[0,-2*sigma_hat1,0,0],[0,0,-1,0],[0,0,0,-2*sigma_hat2]]).reshape(4,4)\n",
    "omega_hat = (1/T)*np.linalg.inv((d_hat).T@np.linalg.inv(S_hat)@d_hat)\n",
    "\n",
    "var_hat = A_hat@omega_hat@A_hat.T"
   ]
  },
  {
   "cell_type": "code",
   "execution_count": 114,
   "metadata": {},
   "outputs": [
    {
     "data": {
      "text/plain": [
       "array([[-1.        ,  0.        ,  0.        ,  0.        ],\n",
       "       [ 0.        , -0.12141524,  0.        ,  0.        ],\n",
       "       [ 0.        ,  0.        , -1.        ,  0.        ],\n",
       "       [ 0.        ,  0.        ,  0.        , -0.08865166]])"
      ]
     },
     "execution_count": 114,
     "metadata": {},
     "output_type": "execute_result"
    }
   ],
   "source": [
    "d_hat"
   ]
  },
  {
   "cell_type": "code",
   "execution_count": 104,
   "metadata": {},
   "outputs": [
    {
     "data": {
      "text/plain": [
       "array([[0.55105711]])"
      ]
     },
     "execution_count": 104,
     "metadata": {},
     "output_type": "execute_result"
    }
   ],
   "source": [
    "var_hat"
   ]
  },
  {
   "cell_type": "code",
   "execution_count": 109,
   "metadata": {},
   "outputs": [
    {
     "name": "stdout",
     "output_type": "stream",
     "text": [
      "Test Statistic =  [[0.01101739]]\n",
      "Do Not Reject Null Hypothesis\n"
     ]
    }
   ],
   "source": [
    "# Hypothesis Test\n",
    "sharpe1 = np.mean(pm[\"PM1_ex\"])/np.std(pm[\"PM1_ex\"])\n",
    "sharpe2 = np.mean(pm[\"PM2_ex\"])/np.std(pm[\"PM2_ex\"])\n",
    "\n",
    "tstat = (sharpe1-sharpe2)/(var_hat)**0.5\n",
    "print(tstat)\n",
    "#Do Not Reject Null Hypothesis"
   ]
  },
  {
   "cell_type": "code",
   "execution_count": 112,
   "metadata": {},
   "outputs": [
    {
     "name": "stdout",
     "output_type": "stream",
     "text": [
      "Test Statistic =  -14.100277659205327\n",
      "Reject Null Hypothesis\n"
     ]
    }
   ],
   "source": [
    "#Differences in Informaiton Ratio\n",
    "IR1 = pm1_ols.params[0] / (np.var(pm1_ols.resid))**0.5\n",
    "IR2 = pm2_ols.params[0] / (np.var(pm2_ols.resid))**0.5\n",
    "var_IR1 = (pm1_ols.bse[0]**2)*1/(np.var(pm1_ols.resid))\n",
    "var_IR2 = (pm2_ols.bse[0]**2)*1/(np.var(pm2_ols.resid))\n",
    "\n",
    "print((IR1 - IR2)/(((var_IR1)/T + (var_IR2)/T)**0.5))\n",
    "#Reject Null Hypothesis"
   ]
  }
 ],
 "metadata": {
  "kernelspec": {
   "display_name": "Python 3",
   "language": "python",
   "name": "python3"
  },
  "language_info": {
   "codemirror_mode": {
    "name": "ipython",
    "version": 3
   },
   "file_extension": ".py",
   "mimetype": "text/x-python",
   "name": "python",
   "nbconvert_exporter": "python",
   "pygments_lexer": "ipython3",
   "version": "3.7.4"
  }
 },
 "nbformat": 4,
 "nbformat_minor": 2
}
